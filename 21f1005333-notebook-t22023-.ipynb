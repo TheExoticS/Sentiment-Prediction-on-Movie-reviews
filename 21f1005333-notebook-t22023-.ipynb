{
 "cells": [
  {
   "cell_type": "code",
   "execution_count": 1,
   "id": "f677a7f2",
   "metadata": {
    "_cell_guid": "b1076dfc-b9ad-4769-8c92-a6c4dae69d19",
    "_uuid": "8f2839f25d086af736a60e9eeb907d3b93b6e0e5",
    "execution": {
     "iopub.execute_input": "2023-08-13T18:16:24.362558Z",
     "iopub.status.busy": "2023-08-13T18:16:24.362140Z",
     "iopub.status.idle": "2023-08-13T18:16:24.376201Z",
     "shell.execute_reply": "2023-08-13T18:16:24.375395Z"
    },
    "papermill": {
     "duration": 0.05359,
     "end_time": "2023-08-13T18:16:24.379166",
     "exception": false,
     "start_time": "2023-08-13T18:16:24.325576",
     "status": "completed"
    },
    "tags": []
   },
   "outputs": [
    {
     "name": "stdout",
     "output_type": "stream",
     "text": [
      "/kaggle/input/sentiment-prediction-on-movie-reviews/movies.csv\n",
      "/kaggle/input/sentiment-prediction-on-movie-reviews/sample.csv\n",
      "/kaggle/input/sentiment-prediction-on-movie-reviews/train.csv\n",
      "/kaggle/input/sentiment-prediction-on-movie-reviews/test.csv\n"
     ]
    }
   ],
   "source": [
    "# This Python 3 environment comes with many helpful analytics libraries installed\n",
    "# It is defined by the kaggle/python Docker image: https://github.com/kaggle/docker-python\n",
    "# For example, here's several helpful packages to load\n",
    "\n",
    "import numpy as np # linear algebra\n",
    "import pandas as pd # data processing, CSV file I/O (e.g. pd.read_csv)\n",
    "\n",
    "# Input data files are available in the read-only \"../input/\" directory\n",
    "# For example, running this (by clicking run or pressing Shift+Enter) will list all files under the input directory\n",
    "\n",
    "import os\n",
    "for dirname, _, filenames in os.walk('/kaggle/input'):\n",
    "    for filename in filenames:\n",
    "        print(os.path.join(dirname, filename))\n",
    "\n",
    "# You can write up to 20GB to the current directory (/kaggle/working/) that gets preserved as output when you create a version using \"Save & Run All\" \n",
    "# You can also write temporary files to /kaggle/temp/, but they won't be saved outside of the current session"
   ]
  },
  {
   "cell_type": "markdown",
   "id": "febbd3c3",
   "metadata": {
    "papermill": {
     "duration": 0.035761,
     "end_time": "2023-08-13T18:16:24.450022",
     "exception": false,
     "start_time": "2023-08-13T18:16:24.414261",
     "status": "completed"
    },
    "tags": []
   },
   "source": [
    "#                              Sentiment Prediction on Movie Reviews"
   ]
  },
  {
   "cell_type": "markdown",
   "id": "7ed9655d",
   "metadata": {
    "papermill": {
     "duration": 0.034791,
     "end_time": "2023-08-13T18:16:24.519718",
     "exception": false,
     "start_time": "2023-08-13T18:16:24.484927",
     "status": "completed"
    },
    "tags": []
   },
   "source": [
    "> **Sentiment refers to the emotional tone or attitude expressed in a piece of text, such as a movie review.\n",
    "\n",
    "> **In sentiment prediction, the goal is to determine whether the review conveys a positive or negative opinion about the movie.\n",
    "\n",
    "> **This analysis can provide valuable insights into the audience's perception of the film.\n",
    "\n",
    "> **The sentiment prediction process basically involves several steps, such as text preprocessing to clean\n",
    "the review text, feature extraction to represent the text in a numerical format, and training a machine learning model using labeled data to classify the sentiment of the reviews."
   ]
  },
  {
   "cell_type": "markdown",
   "id": "567e043f",
   "metadata": {
    "papermill": {
     "duration": 0.034117,
     "end_time": "2023-08-13T18:16:24.588276",
     "exception": false,
     "start_time": "2023-08-13T18:16:24.554159",
     "status": "completed"
    },
    "tags": []
   },
   "source": [
    "> # Loading Data"
   ]
  },
  {
   "cell_type": "code",
   "execution_count": 2,
   "id": "5af83813",
   "metadata": {
    "execution": {
     "iopub.execute_input": "2023-08-13T18:16:24.659262Z",
     "iopub.status.busy": "2023-08-13T18:16:24.658866Z",
     "iopub.status.idle": "2023-08-13T18:16:27.169836Z",
     "shell.execute_reply": "2023-08-13T18:16:27.168800Z"
    },
    "papermill": {
     "duration": 2.549386,
     "end_time": "2023-08-13T18:16:27.172602",
     "exception": false,
     "start_time": "2023-08-13T18:16:24.623216",
     "status": "completed"
    },
    "tags": []
   },
   "outputs": [],
   "source": [
    "#Loading the data\n",
    "\n",
    "data=pd.read_csv(\"/kaggle/input/sentiment-prediction-on-movie-reviews/train.csv\")\n",
    "data_2=pd.read_csv(\"/kaggle/input/sentiment-prediction-on-movie-reviews/movies.csv\")\n",
    "test_data=pd.read_csv(\"/kaggle/input/sentiment-prediction-on-movie-reviews/test.csv\")"
   ]
  },
  {
   "cell_type": "markdown",
   "id": "de06f27d",
   "metadata": {
    "papermill": {
     "duration": 0.033961,
     "end_time": "2023-08-13T18:16:27.240817",
     "exception": false,
     "start_time": "2023-08-13T18:16:27.206856",
     "status": "completed"
    },
    "tags": []
   },
   "source": [
    "#  Data Visualization"
   ]
  },
  {
   "cell_type": "code",
   "execution_count": 3,
   "id": "8239043b",
   "metadata": {
    "execution": {
     "iopub.execute_input": "2023-08-13T18:16:27.311958Z",
     "iopub.status.busy": "2023-08-13T18:16:27.311501Z",
     "iopub.status.idle": "2023-08-13T18:16:27.663005Z",
     "shell.execute_reply": "2023-08-13T18:16:27.661988Z"
    },
    "papermill": {
     "duration": 0.389615,
     "end_time": "2023-08-13T18:16:27.665820",
     "exception": false,
     "start_time": "2023-08-13T18:16:27.276205",
     "status": "completed"
    },
    "tags": []
   },
   "outputs": [
    {
     "data": {
      "text/html": [
       "<div>\n",
       "<style scoped>\n",
       "    .dataframe tbody tr th:only-of-type {\n",
       "        vertical-align: middle;\n",
       "    }\n",
       "\n",
       "    .dataframe tbody tr th {\n",
       "        vertical-align: top;\n",
       "    }\n",
       "\n",
       "    .dataframe thead th {\n",
       "        text-align: right;\n",
       "    }\n",
       "</style>\n",
       "<table border=\"1\" class=\"dataframe\">\n",
       "  <thead>\n",
       "    <tr style=\"text-align: right;\">\n",
       "      <th></th>\n",
       "      <th>movieid</th>\n",
       "      <th>reviewerName</th>\n",
       "      <th>isFrequentReviewer</th>\n",
       "      <th>reviewText</th>\n",
       "      <th>sentiment</th>\n",
       "    </tr>\n",
       "  </thead>\n",
       "  <tbody>\n",
       "    <tr>\n",
       "      <th>count</th>\n",
       "      <td>162758</td>\n",
       "      <td>162758</td>\n",
       "      <td>162758</td>\n",
       "      <td>156311</td>\n",
       "      <td>162758</td>\n",
       "    </tr>\n",
       "    <tr>\n",
       "      <th>unique</th>\n",
       "      <td>16812</td>\n",
       "      <td>4482</td>\n",
       "      <td>2</td>\n",
       "      <td>155071</td>\n",
       "      <td>2</td>\n",
       "    </tr>\n",
       "    <tr>\n",
       "      <th>top</th>\n",
       "      <td>escape_the_terminator_tyler_durden_astonish</td>\n",
       "      <td>Sherri Morrison</td>\n",
       "      <td>False</td>\n",
       "      <td>Parental Content Review</td>\n",
       "      <td>POSITIVE</td>\n",
       "    </tr>\n",
       "    <tr>\n",
       "      <th>freq</th>\n",
       "      <td>708</td>\n",
       "      <td>962</td>\n",
       "      <td>113189</td>\n",
       "      <td>29</td>\n",
       "      <td>108761</td>\n",
       "    </tr>\n",
       "  </tbody>\n",
       "</table>\n",
       "</div>"
      ],
      "text/plain": [
       "                                            movieid     reviewerName  \\\n",
       "count                                        162758           162758   \n",
       "unique                                        16812             4482   \n",
       "top     escape_the_terminator_tyler_durden_astonish  Sherri Morrison   \n",
       "freq                                            708              962   \n",
       "\n",
       "       isFrequentReviewer               reviewText sentiment  \n",
       "count              162758                   156311    162758  \n",
       "unique                  2                   155071         2  \n",
       "top                 False  Parental Content Review  POSITIVE  \n",
       "freq               113189                       29    108761  "
      ]
     },
     "execution_count": 3,
     "metadata": {},
     "output_type": "execute_result"
    }
   ],
   "source": [
    "data.describe()   #This is our training dataset"
   ]
  },
  {
   "cell_type": "markdown",
   "id": "7ca4e5b5",
   "metadata": {
    "papermill": {
     "duration": 0.034258,
     "end_time": "2023-08-13T18:16:27.735907",
     "exception": false,
     "start_time": "2023-08-13T18:16:27.701649",
     "status": "completed"
    },
    "tags": []
   },
   "source": [
    "> movieid : Consist of total 1,62,758 values with 16,812 unique values, having most frequent movieid -  \"escape_the_terminator_tyler_durden_astonish\" showing frquency of 708.\n",
    "\n",
    "> reviewerName : Mostly reviewed person is \"Sherri Morrison\", who actively reviewed 962 times.\n",
    "\n",
    "> reviewText : Consist of total 1,56,311 reviews with 1,55,071 unique reviews. Most common review found to be - \"Parental Content Review\" with total count 29.\n",
    "\n",
    "> sentiment : That is the Target variable, having two binary values - Positive, Negative. With 'Positive' as the highly occurring sentiment. (People liked most of the movies)"
   ]
  },
  {
   "cell_type": "code",
   "execution_count": 4,
   "id": "51763f89",
   "metadata": {
    "execution": {
     "iopub.execute_input": "2023-08-13T18:16:27.808048Z",
     "iopub.status.busy": "2023-08-13T18:16:27.807649Z",
     "iopub.status.idle": "2023-08-13T18:16:29.531547Z",
     "shell.execute_reply": "2023-08-13T18:16:29.530748Z"
    },
    "papermill": {
     "duration": 1.7633,
     "end_time": "2023-08-13T18:16:29.534287",
     "exception": false,
     "start_time": "2023-08-13T18:16:27.770987",
     "status": "completed"
    },
    "tags": []
   },
   "outputs": [
    {
     "data": {
      "image/png": "[encoded data removed]",
      "text/plain": [
       "<Figure size 800x600 with 1 Axes>"
      ]
     },
     "metadata": {},
     "output_type": "display_data"
    }
   ],
   "source": [
    "#Plot for the target variable (sentiment) distribution.\n",
    "import matplotlib.pyplot as plt\n",
    "import seaborn as sns\n",
    "\n",
    "sentiment_distribution = data['sentiment'].value_counts()\n",
    "plt.figure(figsize=(8, 6))\n",
    "sns.barplot(x=sentiment_distribution.index, y=sentiment_distribution.values)\n",
    "plt.title('Distribution of Sentiments (POSITIVE and NEGATIVE)')\n",
    "plt.xlabel('Sentiment')\n",
    "plt.ylabel('Count')\n",
    "plt.show()"
   ]
  },
  {
   "cell_type": "code",
   "execution_count": 5,
   "id": "7f282c04",
   "metadata": {
    "execution": {
     "iopub.execute_input": "2023-08-13T18:16:29.607719Z",
     "iopub.status.busy": "2023-08-13T18:16:29.607322Z",
     "iopub.status.idle": "2023-08-13T18:16:29.649831Z",
     "shell.execute_reply": "2023-08-13T18:16:29.648619Z"
    },
    "papermill": {
     "duration": 0.082405,
     "end_time": "2023-08-13T18:16:29.652448",
     "exception": false,
     "start_time": "2023-08-13T18:16:29.570043",
     "status": "completed"
    },
    "tags": []
   },
   "outputs": [
    {
     "data": {
      "text/html": [
       "<div>\n",
       "<style scoped>\n",
       "    .dataframe tbody tr th:only-of-type {\n",
       "        vertical-align: middle;\n",
       "    }\n",
       "\n",
       "    .dataframe tbody tr th {\n",
       "        vertical-align: top;\n",
       "    }\n",
       "\n",
       "    .dataframe thead th {\n",
       "        text-align: right;\n",
       "    }\n",
       "</style>\n",
       "<table border=\"1\" class=\"dataframe\">\n",
       "  <thead>\n",
       "    <tr style=\"text-align: right;\">\n",
       "      <th></th>\n",
       "      <th>audienceScore</th>\n",
       "      <th>runtimeMinutes</th>\n",
       "    </tr>\n",
       "  </thead>\n",
       "  <tbody>\n",
       "    <tr>\n",
       "      <th>count</th>\n",
       "      <td>73248.000000</td>\n",
       "      <td>129431.000000</td>\n",
       "    </tr>\n",
       "    <tr>\n",
       "      <th>mean</th>\n",
       "      <td>55.674967</td>\n",
       "      <td>93.708578</td>\n",
       "    </tr>\n",
       "    <tr>\n",
       "      <th>std</th>\n",
       "      <td>24.553648</td>\n",
       "      <td>28.129175</td>\n",
       "    </tr>\n",
       "    <tr>\n",
       "      <th>min</th>\n",
       "      <td>0.000000</td>\n",
       "      <td>1.000000</td>\n",
       "    </tr>\n",
       "    <tr>\n",
       "      <th>25%</th>\n",
       "      <td>37.000000</td>\n",
       "      <td>84.000000</td>\n",
       "    </tr>\n",
       "    <tr>\n",
       "      <th>50%</th>\n",
       "      <td>57.000000</td>\n",
       "      <td>92.000000</td>\n",
       "    </tr>\n",
       "    <tr>\n",
       "      <th>75%</th>\n",
       "      <td>76.000000</td>\n",
       "      <td>103.000000</td>\n",
       "    </tr>\n",
       "    <tr>\n",
       "      <th>max</th>\n",
       "      <td>100.000000</td>\n",
       "      <td>2700.000000</td>\n",
       "    </tr>\n",
       "  </tbody>\n",
       "</table>\n",
       "</div>"
      ],
      "text/plain": [
       "       audienceScore  runtimeMinutes\n",
       "count   73248.000000   129431.000000\n",
       "mean       55.674967       93.708578\n",
       "std        24.553648       28.129175\n",
       "min         0.000000        1.000000\n",
       "25%        37.000000       84.000000\n",
       "50%        57.000000       92.000000\n",
       "75%        76.000000      103.000000\n",
       "max       100.000000     2700.000000"
      ]
     },
     "execution_count": 5,
     "metadata": {},
     "output_type": "execute_result"
    }
   ],
   "source": [
    "data_2.describe() #This is our movies dataset."
   ]
  },
  {
   "cell_type": "markdown",
   "id": "bb45b85e",
   "metadata": {
    "papermill": {
     "duration": 0.035298,
     "end_time": "2023-08-13T18:16:29.724517",
     "exception": false,
     "start_time": "2023-08-13T18:16:29.689219",
     "status": "completed"
    },
    "tags": []
   },
   "source": [
    "> **There are a few outliers in terms of runtime, with some movies having an exceptionally long or short runtime."
   ]
  },
  {
   "cell_type": "code",
   "execution_count": 6,
   "id": "7fca0510",
   "metadata": {
    "execution": {
     "iopub.execute_input": "2023-08-13T18:16:29.797491Z",
     "iopub.status.busy": "2023-08-13T18:16:29.797097Z",
     "iopub.status.idle": "2023-08-13T18:16:30.542997Z",
     "shell.execute_reply": "2023-08-13T18:16:30.541821Z"
    },
    "papermill": {
     "duration": 0.785496,
     "end_time": "2023-08-13T18:16:30.545888",
     "exception": false,
     "start_time": "2023-08-13T18:16:29.760392",
     "status": "completed"
    },
    "tags": []
   },
   "outputs": [],
   "source": [
    "movies_2=pd.read_csv(\"/kaggle/input/sentiment-prediction-on-movie-reviews/movies.csv\")\n",
    "\n",
    "#Removing the duplicates in movies dataset w.r.t movieid column\n",
    "movies_2.drop_duplicates(subset='movieid', keep='first', inplace=True)"
   ]
  },
  {
   "cell_type": "code",
   "execution_count": 7,
   "id": "f5d881b7",
   "metadata": {
    "execution": {
     "iopub.execute_input": "2023-08-13T18:16:30.620099Z",
     "iopub.status.busy": "2023-08-13T18:16:30.619680Z",
     "iopub.status.idle": "2023-08-13T18:16:30.897398Z",
     "shell.execute_reply": "2023-08-13T18:16:30.896400Z"
    },
    "papermill": {
     "duration": 0.317142,
     "end_time": "2023-08-13T18:16:30.900241",
     "exception": false,
     "start_time": "2023-08-13T18:16:30.583099",
     "status": "completed"
    },
    "tags": []
   },
   "outputs": [],
   "source": [
    "#Merging movies and train dataset\n",
    "m_1 = pd.merge(data, movies_2, on='movieid', how='left')"
   ]
  },
  {
   "cell_type": "code",
   "execution_count": 8,
   "id": "bafe9ae6",
   "metadata": {
    "execution": {
     "iopub.execute_input": "2023-08-13T18:16:30.972158Z",
     "iopub.status.busy": "2023-08-13T18:16:30.971779Z",
     "iopub.status.idle": "2023-08-13T18:16:30.995072Z",
     "shell.execute_reply": "2023-08-13T18:16:30.993989Z"
    },
    "papermill": {
     "duration": 0.062266,
     "end_time": "2023-08-13T18:16:30.997659",
     "exception": false,
     "start_time": "2023-08-13T18:16:30.935393",
     "status": "completed"
    },
    "tags": []
   },
   "outputs": [
    {
     "data": {
      "text/html": [
       "<div>\n",
       "<style scoped>\n",
       "    .dataframe tbody tr th:only-of-type {\n",
       "        vertical-align: middle;\n",
       "    }\n",
       "\n",
       "    .dataframe tbody tr th {\n",
       "        vertical-align: top;\n",
       "    }\n",
       "\n",
       "    .dataframe thead th {\n",
       "        text-align: right;\n",
       "    }\n",
       "</style>\n",
       "<table border=\"1\" class=\"dataframe\">\n",
       "  <thead>\n",
       "    <tr style=\"text-align: right;\">\n",
       "      <th></th>\n",
       "      <th>movieid</th>\n",
       "      <th>reviewerName</th>\n",
       "      <th>isFrequentReviewer</th>\n",
       "      <th>reviewText</th>\n",
       "      <th>sentiment</th>\n",
       "      <th>title</th>\n",
       "      <th>audienceScore</th>\n",
       "      <th>rating</th>\n",
       "      <th>ratingContents</th>\n",
       "      <th>releaseDateTheaters</th>\n",
       "      <th>releaseDateStreaming</th>\n",
       "      <th>runtimeMinutes</th>\n",
       "      <th>genre</th>\n",
       "      <th>originalLanguage</th>\n",
       "      <th>director</th>\n",
       "      <th>boxOffice</th>\n",
       "      <th>distributor</th>\n",
       "      <th>soundType</th>\n",
       "    </tr>\n",
       "  </thead>\n",
       "  <tbody>\n",
       "    <tr>\n",
       "      <th>0</th>\n",
       "      <td>marvelous_pirate</td>\n",
       "      <td>Benjamin Henry</td>\n",
       "      <td>False</td>\n",
       "      <td>Henry Selick’s first movie since 2009’s Corali...</td>\n",
       "      <td>POSITIVE</td>\n",
       "      <td>Marvelous Pirate</td>\n",
       "      <td>65.0</td>\n",
       "      <td>PG-13</td>\n",
       "      <td>['Violence', 'Brief Strong Language', 'Substan...</td>\n",
       "      <td>2022-10-21</td>\n",
       "      <td>2022-10-28</td>\n",
       "      <td>105.0</td>\n",
       "      <td>Comedy, Animation, Adventure, Fantasy</td>\n",
       "      <td>English</td>\n",
       "      <td>Bennie Basso</td>\n",
       "      <td>NaN</td>\n",
       "      <td>Netflix</td>\n",
       "      <td>NaN</td>\n",
       "    </tr>\n",
       "    <tr>\n",
       "      <th>1</th>\n",
       "      <td>tony_montana_frodo_baggins_v_rocky_balboa</td>\n",
       "      <td>Felicia Lopez</td>\n",
       "      <td>False</td>\n",
       "      <td>With a cast that reads like the Vogue Oscar pa...</td>\n",
       "      <td>NEGATIVE</td>\n",
       "      <td>Tony Montana Frodo Baggins V Rocky Balboa</td>\n",
       "      <td>NaN</td>\n",
       "      <td>NaN</td>\n",
       "      <td>NaN</td>\n",
       "      <td>NaN</td>\n",
       "      <td>2013-01-08</td>\n",
       "      <td>91.0</td>\n",
       "      <td>Action</td>\n",
       "      <td>English</td>\n",
       "      <td>Alma White</td>\n",
       "      <td>NaN</td>\n",
       "      <td>NaN</td>\n",
       "      <td>NaN</td>\n",
       "    </tr>\n",
       "    <tr>\n",
       "      <th>2</th>\n",
       "      <td>darth_vader_katniss_everdeen_sorcerer_donnie_d...</td>\n",
       "      <td>Mr. Charles Burgess</td>\n",
       "      <td>True</td>\n",
       "      <td>Creed II does not give us anything but another...</td>\n",
       "      <td>POSITIVE</td>\n",
       "      <td>Darth Vader Katniss Everdeen Sorcerer Donnie D...</td>\n",
       "      <td>80.0</td>\n",
       "      <td>PG-13</td>\n",
       "      <td>['Language', 'A Scene of Sensuality', 'Sports ...</td>\n",
       "      <td>2018-11-21</td>\n",
       "      <td>2019-02-12</td>\n",
       "      <td>130.0</td>\n",
       "      <td>Drama</td>\n",
       "      <td>English</td>\n",
       "      <td>Bobby Oleary</td>\n",
       "      <td>$115.7M</td>\n",
       "      <td>Warner Bros. Pictures, Metro-Goldwyn-Mayer</td>\n",
       "      <td>NaN</td>\n",
       "    </tr>\n",
       "    <tr>\n",
       "      <th>3</th>\n",
       "      <td>lara_croft_glimmer</td>\n",
       "      <td>Ryan Barrett</td>\n",
       "      <td>False</td>\n",
       "      <td>I know what you're thinking, but this is no Li...</td>\n",
       "      <td>POSITIVE</td>\n",
       "      <td>Lara Croft Glimmer</td>\n",
       "      <td>NaN</td>\n",
       "      <td>NaN</td>\n",
       "      <td>NaN</td>\n",
       "      <td>NaN</td>\n",
       "      <td>2020-06-02</td>\n",
       "      <td>15.0</td>\n",
       "      <td>Drama</td>\n",
       "      <td>Spanish</td>\n",
       "      <td>Eric Hutcherson</td>\n",
       "      <td>NaN</td>\n",
       "      <td>NaN</td>\n",
       "      <td>NaN</td>\n",
       "    </tr>\n",
       "    <tr>\n",
       "      <th>4</th>\n",
       "      <td>jason_bourne_surreal_the_terminator_indiana_jones</td>\n",
       "      <td>Alexander Glover</td>\n",
       "      <td>False</td>\n",
       "      <td>Director Fernando Meirelles tells the story wi...</td>\n",
       "      <td>POSITIVE</td>\n",
       "      <td>Jason Bourne Surreal The Terminator Indiana Jones</td>\n",
       "      <td>97.0</td>\n",
       "      <td>R</td>\n",
       "      <td>['Language', 'Drug Content', 'Sexuality', 'Str...</td>\n",
       "      <td>2003-01-17</td>\n",
       "      <td>2004-06-08</td>\n",
       "      <td>131.0</td>\n",
       "      <td>Crime, Drama</td>\n",
       "      <td>Portuguese (Brazil)</td>\n",
       "      <td>John Trent</td>\n",
       "      <td>$7.6M</td>\n",
       "      <td>Miramax Films</td>\n",
       "      <td>Surround, Dolby SR, Dolby Digital, Dolby A, Do...</td>\n",
       "    </tr>\n",
       "  </tbody>\n",
       "</table>\n",
       "</div>"
      ],
      "text/plain": [
       "                                             movieid         reviewerName  \\\n",
       "0                                   marvelous_pirate       Benjamin Henry   \n",
       "1          tony_montana_frodo_baggins_v_rocky_balboa        Felicia Lopez   \n",
       "2  darth_vader_katniss_everdeen_sorcerer_donnie_d...  Mr. Charles Burgess   \n",
       "3                                 lara_croft_glimmer         Ryan Barrett   \n",
       "4  jason_bourne_surreal_the_terminator_indiana_jones     Alexander Glover   \n",
       "\n",
       "   isFrequentReviewer                                         reviewText  \\\n",
       "0               False  Henry Selick’s first movie since 2009’s Corali...   \n",
       "1               False  With a cast that reads like the Vogue Oscar pa...   \n",
       "2                True  Creed II does not give us anything but another...   \n",
       "3               False  I know what you're thinking, but this is no Li...   \n",
       "4               False  Director Fernando Meirelles tells the story wi...   \n",
       "\n",
       "  sentiment                                              title  audienceScore  \\\n",
       "0  POSITIVE                                   Marvelous Pirate           65.0   \n",
       "1  NEGATIVE          Tony Montana Frodo Baggins V Rocky Balboa            NaN   \n",
       "2  POSITIVE  Darth Vader Katniss Everdeen Sorcerer Donnie D...           80.0   \n",
       "3  POSITIVE                                 Lara Croft Glimmer            NaN   \n",
       "4  POSITIVE  Jason Bourne Surreal The Terminator Indiana Jones           97.0   \n",
       "\n",
       "  rating                                     ratingContents  \\\n",
       "0  PG-13  ['Violence', 'Brief Strong Language', 'Substan...   \n",
       "1    NaN                                                NaN   \n",
       "2  PG-13  ['Language', 'A Scene of Sensuality', 'Sports ...   \n",
       "3    NaN                                                NaN   \n",
       "4      R  ['Language', 'Drug Content', 'Sexuality', 'Str...   \n",
       "\n",
       "  releaseDateTheaters releaseDateStreaming  runtimeMinutes  \\\n",
       "0          2022-10-21           2022-10-28           105.0   \n",
       "1                 NaN           2013-01-08            91.0   \n",
       "2          2018-11-21           2019-02-12           130.0   \n",
       "3                 NaN           2020-06-02            15.0   \n",
       "4          2003-01-17           2004-06-08           131.0   \n",
       "\n",
       "                                   genre     originalLanguage  \\\n",
       "0  Comedy, Animation, Adventure, Fantasy              English   \n",
       "1                                 Action              English   \n",
       "2                                  Drama              English   \n",
       "3                                  Drama              Spanish   \n",
       "4                           Crime, Drama  Portuguese (Brazil)   \n",
       "\n",
       "          director boxOffice                                 distributor  \\\n",
       "0     Bennie Basso       NaN                                     Netflix   \n",
       "1       Alma White       NaN                                         NaN   \n",
       "2     Bobby Oleary   $115.7M  Warner Bros. Pictures, Metro-Goldwyn-Mayer   \n",
       "3  Eric Hutcherson       NaN                                         NaN   \n",
       "4       John Trent     $7.6M                               Miramax Films   \n",
       "\n",
       "                                           soundType  \n",
       "0                                                NaN  \n",
       "1                                                NaN  \n",
       "2                                                NaN  \n",
       "3                                                NaN  \n",
       "4  Surround, Dolby SR, Dolby Digital, Dolby A, Do...  "
      ]
     },
     "execution_count": 8,
     "metadata": {},
     "output_type": "execute_result"
    }
   ],
   "source": [
    "m_1.head() #Merged dataset"
   ]
  },
  {
   "cell_type": "markdown",
   "id": "e8c2a792",
   "metadata": {
    "papermill": {
     "duration": 0.035175,
     "end_time": "2023-08-13T18:16:31.068298",
     "exception": false,
     "start_time": "2023-08-13T18:16:31.033123",
     "status": "completed"
    },
    "tags": []
   },
   "source": [
    "movies.csv --\n",
    "\n",
    "> movieid : Common column for both movie and train dataset.\n",
    "\n",
    "> title : Consist of title of the movie.\n",
    "\n",
    "> audienceScore :  Score given by the general audience or viewers to a movie.\n",
    "\n",
    "> rating : Film content ratings\n",
    "           \n",
    "           1.G: General Audiences\n",
    "           \n",
    "           2.PG: Parental Guidance Suggested \n",
    "           \n",
    "           3.PG-13: Parents Strongly Cautioned \n",
    "           \n",
    "           4.R: Restricted \n",
    "           \n",
    "           5.NC-17: No Children 17 and Under Admitted\n",
    "           \n",
    "> ratingContents : Describes content-related information about the movies.\n",
    "\n",
    "> releaseDateTheaters : Describes the date on which movie is released on theaters.\n",
    "\n",
    "> releaseDateStreaming : Refers to the date on which a movie or content is made available for streaming on various platforms, such as streaming services like Netflix, Amazon Prime Video, Disney+, etc.\n",
    "\n",
    "> runtimeMinutes : Duration of a movie.\n",
    "\n",
    "> genre :  Refers to a category or classification of a movie based on its theme, style, and content. Action,Adventure,Drama,Thriller,Comedy,Animation,Fantasy,Sci-Fi,etc.\n",
    "\n",
    "> originalLanguage : The language in which the movie originally made.\n",
    "\n",
    "> director : Consists of Director's full name.\n",
    "\n",
    "> boxOffice : Consists of total earning of a movie.\n",
    "\n",
    "> distributor : Companies or entities responsible for acquiring the rights to distribute films to various theaters, platforms, or markets.\n",
    "\n",
    "> soundType : Refers to the format or quality of the audio used in the film."
   ]
  },
  {
   "cell_type": "code",
   "execution_count": 9,
   "id": "94ac2a68",
   "metadata": {
    "execution": {
     "iopub.execute_input": "2023-08-13T18:16:31.141436Z",
     "iopub.status.busy": "2023-08-13T18:16:31.141005Z",
     "iopub.status.idle": "2023-08-13T18:16:31.173804Z",
     "shell.execute_reply": "2023-08-13T18:16:31.172476Z"
    },
    "papermill": {
     "duration": 0.072126,
     "end_time": "2023-08-13T18:16:31.176000",
     "exception": false,
     "start_time": "2023-08-13T18:16:31.103874",
     "status": "completed"
    },
    "tags": []
   },
   "outputs": [
    {
     "name": "stdout",
     "output_type": "stream",
     "text": [
      "Sherri Morrison      962\n",
      "Veronica Serrano     952\n",
      "Mrs. Vickie Young    827\n",
      "Kristy Ferguson      822\n",
      "Heather Pena         797\n",
      "Name: reviewerName, dtype: int64\n"
     ]
    }
   ],
   "source": [
    "#Giving Top 5 reviewer of the movies\n",
    "reviewer_counts = m_1['reviewerName'].value_counts()\n",
    "print(reviewer_counts.head(5))"
   ]
  },
  {
   "cell_type": "code",
   "execution_count": 10,
   "id": "5be0d1fa",
   "metadata": {
    "execution": {
     "iopub.execute_input": "2023-08-13T18:16:31.248974Z",
     "iopub.status.busy": "2023-08-13T18:16:31.248538Z",
     "iopub.status.idle": "2023-08-13T18:16:31.470596Z",
     "shell.execute_reply": "2023-08-13T18:16:31.469481Z"
    },
    "papermill": {
     "duration": 0.261676,
     "end_time": "2023-08-13T18:16:31.473196",
     "exception": false,
     "start_time": "2023-08-13T18:16:31.211520",
     "status": "completed"
    },
    "tags": []
   },
   "outputs": [
    {
     "data": {
      "image/png": "[encoded data removed]",
      "text/plain": [
       "<Figure size 640x480 with 1 Axes>"
      ]
     },
     "metadata": {},
     "output_type": "display_data"
    }
   ],
   "source": [
    "#Showing bar plot for the same\n",
    "plt.bar(reviewer_counts.head(5).index, reviewer_counts.head(5).values)\n",
    "plt.xlabel('Reviewer Name')\n",
    "plt.ylabel('Total Review Count')\n",
    "plt.title('Top 5 Reviewers with Total Review Count')\n",
    "plt.xticks(rotation=45)  # Rotate x-axis labels for better readability\n",
    "plt.show()"
   ]
  },
  {
   "cell_type": "markdown",
   "id": "e8438223",
   "metadata": {
    "papermill": {
     "duration": 0.036307,
     "end_time": "2023-08-13T18:16:31.545637",
     "exception": false,
     "start_time": "2023-08-13T18:16:31.509330",
     "status": "completed"
    },
    "tags": []
   },
   "source": [
    "# Data Analysis"
   ]
  },
  {
   "cell_type": "code",
   "execution_count": 11,
   "id": "9b15cded",
   "metadata": {
    "execution": {
     "iopub.execute_input": "2023-08-13T18:16:31.621728Z",
     "iopub.status.busy": "2023-08-13T18:16:31.620764Z",
     "iopub.status.idle": "2023-08-13T18:16:32.711827Z",
     "shell.execute_reply": "2023-08-13T18:16:32.710709Z"
    },
    "papermill": {
     "duration": 1.132425,
     "end_time": "2023-08-13T18:16:32.715264",
     "exception": false,
     "start_time": "2023-08-13T18:16:31.582839",
     "status": "completed"
    },
    "tags": []
   },
   "outputs": [
    {
     "data": {
      "image/png": "[encoded data removed]",
      "text/plain": [
       "<Figure size 800x600 with 1 Axes>"
      ]
     },
     "metadata": {},
     "output_type": "display_data"
    },
    {
     "name": "stdout",
     "output_type": "stream",
     "text": [
      "Correlation with 'sentiment' for Rating: 0.008428391632670727\n",
      "Correlation with 'sentiment' for audienceScore: 0.31385513991494646\n",
      "Correlation with 'sentiment' for originalLanguage: 0.0019913096513972813\n",
      "Correlation with 'sentiment' for runningTime: 0.04796025534740458\n",
      "Correlation with 'sentiment' for boxOffice: 0.002975812989267423\n"
     ]
    }
   ],
   "source": [
    "# Here I took 5 columns from merged dataset to show which features are more strongly correlated with the target label\n",
    "#The bar plot is used to visualize and compare the correlation values of different features, allowing us to quickly identify which features may be more influential for sentiment prediction.\n",
    "#Encoding Categorical Features\n",
    "\n",
    "import pandas as pd\n",
    "from sklearn.preprocessing import LabelEncoder\n",
    "\n",
    "\n",
    "audience_score = m_1['audienceScore']\n",
    "rat = m_1['rating']\n",
    "\n",
    "#One-Hot-Encoding for rating column\n",
    "rat_=pd.get_dummies(rat)\n",
    "\n",
    "r_time=m_1['runtimeMinutes']\n",
    "lang=m_1['originalLanguage']\n",
    "\n",
    "#One-Hot-Encoding for originalLanguage column\n",
    "lang_=pd.get_dummies(lang)\n",
    "\n",
    "#Pre-processing boxOffice column\n",
    "box=m_1['boxOffice']\n",
    "box.fillna(box.mode()[0],inplace=True)\n",
    "\n",
    "#Conversion of boxOffice values into numeric.\n",
    "def money_to_numeric(money_str):\n",
    "    if not money_str:  # Check if the string is empty\n",
    "        return np.nan  # Return NaN for empty strings\n",
    "    multiplier = 1\n",
    "    if money_str[-1] == 'K':\n",
    "        multiplier = 1000\n",
    "        money_str = money_str[:-1]  # Removes 'K' from the end\n",
    "    elif money_str[-1] == 'M':\n",
    "        multiplier = 1000000\n",
    "        money_str = money_str[:-1]  # Removes 'M' from the end\n",
    "    try:\n",
    "        value = float(money_str[1:])  # Removes the first character ('$') and convert to float\n",
    "        return value * multiplier\n",
    "    except:\n",
    "        return np.nan\n",
    "box=box.apply(money_to_numeric)\n",
    "\n",
    "#Pre-processing for label (sentiment)\n",
    "labels = m_1['sentiment']\n",
    "#Encoded label to 0 and 1\n",
    "label_encoder = LabelEncoder()\n",
    "y = label_encoder.fit_transform(labels)\n",
    "\n",
    "#Calculated correlation between 'rating' and sentiment labels\n",
    "correlation_text = pd.DataFrame(rat_).corrwith(pd.Series(y))\n",
    "#Calculated correlation between 'originalLanguage' and sentiment labels\n",
    "correlation_text_2 = pd.DataFrame(lang_).corrwith(pd.Series(y))\n",
    "\n",
    "#Calculated correlation between 'audienceScore' and sentiment labels\n",
    "correlation_numerical = audience_score.corr(pd.Series(y))\n",
    "#Calculated correlation between 'runningTime' and sentiment labels\n",
    "correlation_numerical_2 = r_time.corr(pd.Series(y))\n",
    "#Calculated correlation between 'boxOffice' and sentiment labels\n",
    "correlation_numerical_3 = box.corr(pd.Series(y))\n",
    "\n",
    "\n",
    "# Step 3: Visualize the correlation\n",
    "import matplotlib.pyplot as plt\n",
    "\n",
    "plt.figure(figsize=(8, 6))\n",
    "plt.bar(['Rating', 'audienceScore','originalLanguage','runningTime','boxOffice'], [correlation_text[0], correlation_numerical,correlation_text_2[0], correlation_numerical_2,correlation_numerical_3])\n",
    "plt.xlabel('Features')\n",
    "plt.ylabel('Correlation with Sentiment')\n",
    "plt.title('Correlation between Features and Sentiment')\n",
    "plt.show()\n",
    "\n",
    "# Compare the correlation values\n",
    "print(\"Correlation with 'sentiment' for Rating:\", correlation_text[0])\n",
    "print(\"Correlation with 'sentiment' for audienceScore:\", correlation_numerical)\n",
    "print(\"Correlation with 'sentiment' for originalLanguage:\", correlation_text_2[0])\n",
    "print(\"Correlation with 'sentiment' for runningTime:\", correlation_numerical_2)\n",
    "print(\"Correlation with 'sentiment' for boxOffice:\", correlation_numerical_3)\n"
   ]
  },
  {
   "cell_type": "code",
   "execution_count": 12,
   "id": "fa001dec",
   "metadata": {
    "execution": {
     "iopub.execute_input": "2023-08-13T18:16:32.793266Z",
     "iopub.status.busy": "2023-08-13T18:16:32.792485Z",
     "iopub.status.idle": "2023-08-13T18:16:32.797600Z",
     "shell.execute_reply": "2023-08-13T18:16:32.796520Z"
    },
    "papermill": {
     "duration": 0.047282,
     "end_time": "2023-08-13T18:16:32.799828",
     "exception": false,
     "start_time": "2023-08-13T18:16:32.752546",
     "status": "completed"
    },
    "tags": []
   },
   "outputs": [],
   "source": [
    "#Xi=m_1.drop(columns='sentiment')\n",
    "#yi=m_1['sentiment']"
   ]
  },
  {
   "cell_type": "markdown",
   "id": "263c8d55",
   "metadata": {
    "papermill": {
     "duration": 0.036893,
     "end_time": "2023-08-13T18:16:32.873942",
     "exception": false,
     "start_time": "2023-08-13T18:16:32.837049",
     "status": "completed"
    },
    "tags": []
   },
   "source": [
    "# Data Preprocessing ( Imputation, Scaling, Encoding, etc )"
   ]
  },
  {
   "cell_type": "code",
   "execution_count": 13,
   "id": "967caa37",
   "metadata": {
    "execution": {
     "iopub.execute_input": "2023-08-13T18:16:32.951245Z",
     "iopub.status.busy": "2023-08-13T18:16:32.950848Z",
     "iopub.status.idle": "2023-08-13T18:16:33.710856Z",
     "shell.execute_reply": "2023-08-13T18:16:33.709704Z"
    },
    "papermill": {
     "duration": 0.80186,
     "end_time": "2023-08-13T18:16:33.713421",
     "exception": false,
     "start_time": "2023-08-13T18:16:32.911561",
     "status": "completed"
    },
    "tags": []
   },
   "outputs": [
    {
     "name": "stdout",
     "output_type": "stream",
     "text": [
      "movieid                     0\n",
      "reviewerName                0\n",
      "isFrequentReviewer          0\n",
      "reviewText               6447\n",
      "sentiment                   0\n",
      "title                       0\n",
      "audienceScore           13248\n",
      "rating                  63724\n",
      "ratingContents          63724\n",
      "releaseDateTheaters     35834\n",
      "releaseDateStreaming    16185\n",
      "runtimeMinutes           3376\n",
      "genre                    2438\n",
      "originalLanguage         3290\n",
      "director                    0\n",
      "boxOffice                   0\n",
      "distributor             40663\n",
      "soundType               85367\n",
      "dtype: int64\n"
     ]
    }
   ],
   "source": [
    "#Checking columns having missing values in merged dataset named m_1\n",
    "#Counting the missing values for each column\n",
    "columns_with_missing_values = m_1.isnull().sum()\n",
    "\n",
    "# Display the columns with their corresponding count of missing values\n",
    "print(columns_with_missing_values)"
   ]
  },
  {
   "cell_type": "markdown",
   "id": "c5f9e0d9",
   "metadata": {
    "papermill": {
     "duration": 0.037734,
     "end_time": "2023-08-13T18:16:33.788774",
     "exception": false,
     "start_time": "2023-08-13T18:16:33.751040",
     "status": "completed"
    },
    "tags": []
   },
   "source": [
    "> # First Approach ( Selection of 2 columns for prediction )"
   ]
  },
  {
   "cell_type": "code",
   "execution_count": 14,
   "id": "e482066c",
   "metadata": {
    "execution": {
     "iopub.execute_input": "2023-08-13T18:16:33.866062Z",
     "iopub.status.busy": "2023-08-13T18:16:33.865191Z",
     "iopub.status.idle": "2023-08-13T18:16:33.972246Z",
     "shell.execute_reply": "2023-08-13T18:16:33.971411Z"
    },
    "papermill": {
     "duration": 0.14847,
     "end_time": "2023-08-13T18:16:33.974753",
     "exception": false,
     "start_time": "2023-08-13T18:16:33.826283",
     "status": "completed"
    },
    "tags": []
   },
   "outputs": [],
   "source": [
    "#Selected 2 most relevant columns in Xn and seperated label column in yn\n",
    "\n",
    "Xn=m_1[['reviewText','audienceScore']]\n",
    "yn=m_1['sentiment']"
   ]
  },
  {
   "cell_type": "code",
   "execution_count": 15,
   "id": "f461093a",
   "metadata": {
    "execution": {
     "iopub.execute_input": "2023-08-13T18:16:34.052623Z",
     "iopub.status.busy": "2023-08-13T18:16:34.051891Z",
     "iopub.status.idle": "2023-08-13T18:16:34.198381Z",
     "shell.execute_reply": "2023-08-13T18:16:34.196964Z"
    },
    "papermill": {
     "duration": 0.188376,
     "end_time": "2023-08-13T18:16:34.201107",
     "exception": false,
     "start_time": "2023-08-13T18:16:34.012731",
     "status": "completed"
    },
    "tags": []
   },
   "outputs": [
    {
     "name": "stderr",
     "output_type": "stream",
     "text": [
      "/tmp/ipykernel_20/3591454218.py:3: SettingWithCopyWarning: \n",
      "A value is trying to be set on a copy of a slice from a DataFrame\n",
      "\n",
      "See the caveats in the documentation: https://pandas.pydata.org/pandas-docs/stable/user_guide/indexing.html#returning-a-view-versus-a-copy\n",
      "  Xn['audienceScore'].fillna(Xn['audienceScore'].mode()[0],inplace=True)\n",
      "/tmp/ipykernel_20/3591454218.py:4: SettingWithCopyWarning: \n",
      "A value is trying to be set on a copy of a slice from a DataFrame\n",
      "\n",
      "See the caveats in the documentation: https://pandas.pydata.org/pandas-docs/stable/user_guide/indexing.html#returning-a-view-versus-a-copy\n",
      "  Xn['reviewText'].fillna(Xn['reviewText'].mode()[0],inplace=True)\n"
     ]
    }
   ],
   "source": [
    "#Filled missing values with the most occuring value in their respective column\n",
    "\n",
    "Xn['audienceScore'].fillna(Xn['audienceScore'].mode()[0],inplace=True)\n",
    "Xn['reviewText'].fillna(Xn['reviewText'].mode()[0],inplace=True)"
   ]
  },
  {
   "cell_type": "code",
   "execution_count": 16,
   "id": "e3382f0f",
   "metadata": {
    "execution": {
     "iopub.execute_input": "2023-08-13T18:16:34.278856Z",
     "iopub.status.busy": "2023-08-13T18:16:34.278244Z",
     "iopub.status.idle": "2023-08-13T18:16:34.284365Z",
     "shell.execute_reply": "2023-08-13T18:16:34.283629Z"
    },
    "papermill": {
     "duration": 0.047794,
     "end_time": "2023-08-13T18:16:34.286744",
     "exception": false,
     "start_time": "2023-08-13T18:16:34.238950",
     "status": "completed"
    },
    "tags": []
   },
   "outputs": [],
   "source": [
    "#Defined functions to remove special characters, numbers, etc from reviewText column\n",
    "#Converted entire text to lowercase\n",
    "\n",
    "def pre_process(txt):\n",
    "  clear_txt = \"!@#$%^&*()_-+=’{}[]|\\:;'<>?,./\\\"0123456789\"\n",
    "  txt = ''.join(char for char in txt if char not in clear_txt)\n",
    "  txt = txt.lower()\n",
    "  return txt\n",
    "\n",
    "#Defined another function that removes single letter word from reviewText column\n",
    "\n",
    "def remove_one(text):\n",
    "    words = text.split()\n",
    "    words = [word for word in words if len(word) > 1]\n",
    "    p_text = ' '.join(words)\n",
    "    return p_text"
   ]
  },
  {
   "cell_type": "code",
   "execution_count": 17,
   "id": "980e88ee",
   "metadata": {
    "execution": {
     "iopub.execute_input": "2023-08-13T18:16:34.365795Z",
     "iopub.status.busy": "2023-08-13T18:16:34.365342Z",
     "iopub.status.idle": "2023-08-13T18:16:39.188114Z",
     "shell.execute_reply": "2023-08-13T18:16:39.186972Z"
    },
    "papermill": {
     "duration": 4.864977,
     "end_time": "2023-08-13T18:16:39.191255",
     "exception": false,
     "start_time": "2023-08-13T18:16:34.326278",
     "status": "completed"
    },
    "tags": []
   },
   "outputs": [
    {
     "name": "stderr",
     "output_type": "stream",
     "text": [
      "/tmp/ipykernel_20/655159784.py:2: SettingWithCopyWarning: \n",
      "A value is trying to be set on a copy of a slice from a DataFrame.\n",
      "Try using .loc[row_indexer,col_indexer] = value instead\n",
      "\n",
      "See the caveats in the documentation: https://pandas.pydata.org/pandas-docs/stable/user_guide/indexing.html#returning-a-view-versus-a-copy\n",
      "  Xn['reviewText']=Xn['reviewText'].apply(pre_process)\n",
      "/tmp/ipykernel_20/655159784.py:3: SettingWithCopyWarning: \n",
      "A value is trying to be set on a copy of a slice from a DataFrame.\n",
      "Try using .loc[row_indexer,col_indexer] = value instead\n",
      "\n",
      "See the caveats in the documentation: https://pandas.pydata.org/pandas-docs/stable/user_guide/indexing.html#returning-a-view-versus-a-copy\n",
      "  Xn['reviewText']=Xn['reviewText'].apply(remove_one)\n"
     ]
    }
   ],
   "source": [
    "#Applied above functions to the column having text value\n",
    "Xn['reviewText']=Xn['reviewText'].apply(pre_process)\n",
    "Xn['reviewText']=Xn['reviewText'].apply(remove_one)"
   ]
  },
  {
   "cell_type": "code",
   "execution_count": 18,
   "id": "039d8d7c",
   "metadata": {
    "execution": {
     "iopub.execute_input": "2023-08-13T18:16:39.270242Z",
     "iopub.status.busy": "2023-08-13T18:16:39.269856Z",
     "iopub.status.idle": "2023-08-13T18:16:39.405787Z",
     "shell.execute_reply": "2023-08-13T18:16:39.404584Z"
    },
    "papermill": {
     "duration": 0.17853,
     "end_time": "2023-08-13T18:16:39.408338",
     "exception": false,
     "start_time": "2023-08-13T18:16:39.229808",
     "status": "completed"
    },
    "tags": []
   },
   "outputs": [],
   "source": [
    "#Splitting the data into training and validation\n",
    "\n",
    "from sklearn.model_selection import train_test_split\n",
    "Xn_train, Xn_val, yn_train, yn_val = train_test_split(Xn,yn,test_size=0.2,random_state=42)"
   ]
  },
  {
   "cell_type": "markdown",
   "id": "6cae5d85",
   "metadata": {
    "papermill": {
     "duration": 0.03716,
     "end_time": "2023-08-13T18:16:39.483125",
     "exception": false,
     "start_time": "2023-08-13T18:16:39.445965",
     "status": "completed"
    },
    "tags": []
   },
   "source": [
    "# Feature Engineering - TF-IDF Vectorization"
   ]
  },
  {
   "cell_type": "code",
   "execution_count": 19,
   "id": "9c4639f5",
   "metadata": {
    "execution": {
     "iopub.execute_input": "2023-08-13T18:16:39.559993Z",
     "iopub.status.busy": "2023-08-13T18:16:39.559593Z",
     "iopub.status.idle": "2023-08-13T18:16:45.093970Z",
     "shell.execute_reply": "2023-08-13T18:16:45.092786Z"
    },
    "papermill": {
     "duration": 5.57616,
     "end_time": "2023-08-13T18:16:45.096763",
     "exception": false,
     "start_time": "2023-08-13T18:16:39.520603",
     "status": "completed"
    },
    "tags": []
   },
   "outputs": [],
   "source": [
    "#Used the TfidfVectorizer to convert the text data into numerical vectors\n",
    "\n",
    "from sklearn.feature_extraction.text import TfidfVectorizer\n",
    "vectn = TfidfVectorizer()\n",
    "Xn_t_tfidf=vectn.fit_transform(Xn_train['reviewText'])\n",
    "Xn_v_tfidf=vectn.transform(Xn_val['reviewText'])"
   ]
  },
  {
   "cell_type": "code",
   "execution_count": 20,
   "id": "9155480b",
   "metadata": {
    "execution": {
     "iopub.execute_input": "2023-08-13T18:16:45.175936Z",
     "iopub.status.busy": "2023-08-13T18:16:45.175391Z",
     "iopub.status.idle": "2023-08-13T18:16:45.245639Z",
     "shell.execute_reply": "2023-08-13T18:16:45.244631Z"
    },
    "papermill": {
     "duration": 0.113194,
     "end_time": "2023-08-13T18:16:45.248419",
     "exception": false,
     "start_time": "2023-08-13T18:16:45.135225",
     "status": "completed"
    },
    "tags": []
   },
   "outputs": [],
   "source": [
    "#Seperated audienceScore column for both training and validation set ( Converted to 2D Array )\n",
    "\n",
    "Xn_t_a=Xn_train['audienceScore'].values.reshape(-1,1)\n",
    "Xn_v_a=Xn_val['audienceScore'].values.reshape(-1,1)\n",
    "\n",
    "\n",
    "#Concatenating the TF-IDF features with the 'audienceScore' column\n",
    "\n",
    "import scipy.sparse as sp\n",
    "Xn_t_f=sp.hstack((Xn_t_tfidf,Xn_t_a))\n",
    "Xn_v_f=sp.hstack((Xn_v_tfidf,Xn_v_a))"
   ]
  },
  {
   "cell_type": "code",
   "execution_count": 21,
   "id": "7eee9ad8",
   "metadata": {
    "execution": {
     "iopub.execute_input": "2023-08-13T18:16:45.325940Z",
     "iopub.status.busy": "2023-08-13T18:16:45.325558Z",
     "iopub.status.idle": "2023-08-13T18:16:46.915605Z",
     "shell.execute_reply": "2023-08-13T18:16:46.914414Z"
    },
    "papermill": {
     "duration": 1.631354,
     "end_time": "2023-08-13T18:16:46.918029",
     "exception": false,
     "start_time": "2023-08-13T18:16:45.286675",
     "status": "completed"
    },
    "tags": []
   },
   "outputs": [
    {
     "data": {
      "text/plain": [
       "0.7628409928729417"
      ]
     },
     "execution_count": 21,
     "metadata": {},
     "output_type": "execute_result"
    }
   ],
   "source": [
    "#Created and trained the MultinomialNB model (**Hyperparameter-tuning applied in local colab file)\n",
    "from sklearn.naive_bayes import MultinomialNB\n",
    "mod_n = MultinomialNB(alpha=0.000402)\n",
    "mod_n.fit(Xn_t_f, yn_train)\n",
    "\n",
    "#Making predictions on the validation data\n",
    "y_v_pred = mod_n.predict(Xn_v_f)\n",
    "\n",
    "#Evaluating the model's performance\n",
    "from sklearn.metrics import f1_score\n",
    "scor=f1_score(yn_val,y_v_pred,average='micro')\n",
    "scor"
   ]
  },
  {
   "cell_type": "markdown",
   "id": "1db4e60f",
   "metadata": {
    "papermill": {
     "duration": 0.037578,
     "end_time": "2023-08-13T18:16:46.994329",
     "exception": false,
     "start_time": "2023-08-13T18:16:46.956751",
     "status": "completed"
    },
    "tags": []
   },
   "source": [
    "> # Second Approach\n",
    "**Data Preprocessing ( Considering reviewText as most relevant input )"
   ]
  },
  {
   "cell_type": "code",
   "execution_count": 22,
   "id": "8e4721e7",
   "metadata": {
    "execution": {
     "iopub.execute_input": "2023-08-13T18:16:47.072310Z",
     "iopub.status.busy": "2023-08-13T18:16:47.071924Z",
     "iopub.status.idle": "2023-08-13T18:16:47.076266Z",
     "shell.execute_reply": "2023-08-13T18:16:47.075526Z"
    },
    "papermill": {
     "duration": 0.046288,
     "end_time": "2023-08-13T18:16:47.078371",
     "exception": false,
     "start_time": "2023-08-13T18:16:47.032083",
     "status": "completed"
    },
    "tags": []
   },
   "outputs": [],
   "source": [
    "#Seperating the data into feature and label\n",
    "X=data['reviewText']\n",
    "y=data['sentiment']"
   ]
  },
  {
   "cell_type": "code",
   "execution_count": 23,
   "id": "7085860c",
   "metadata": {
    "execution": {
     "iopub.execute_input": "2023-08-13T18:16:47.156975Z",
     "iopub.status.busy": "2023-08-13T18:16:47.156045Z",
     "iopub.status.idle": "2023-08-13T18:16:47.295636Z",
     "shell.execute_reply": "2023-08-13T18:16:47.294310Z"
    },
    "papermill": {
     "duration": 0.181476,
     "end_time": "2023-08-13T18:16:47.298221",
     "exception": false,
     "start_time": "2023-08-13T18:16:47.116745",
     "status": "completed"
    },
    "tags": []
   },
   "outputs": [],
   "source": [
    "#Filling missing values with most occuring value\n",
    "most_freq = X.mode()[0]\n",
    "X.fillna(most_freq, inplace=True)"
   ]
  },
  {
   "cell_type": "code",
   "execution_count": 24,
   "id": "961892ae",
   "metadata": {
    "execution": {
     "iopub.execute_input": "2023-08-13T18:16:47.377354Z",
     "iopub.status.busy": "2023-08-13T18:16:47.376950Z",
     "iopub.status.idle": "2023-08-13T18:16:52.328346Z",
     "shell.execute_reply": "2023-08-13T18:16:52.327140Z"
    },
    "papermill": {
     "duration": 4.995072,
     "end_time": "2023-08-13T18:16:52.331224",
     "exception": false,
     "start_time": "2023-08-13T18:16:47.336152",
     "status": "completed"
    },
    "tags": []
   },
   "outputs": [],
   "source": [
    "#Applied above methods to clean text in reviewText column \n",
    "X=X.apply(pre_process)\n",
    "X=X.apply(remove_one)"
   ]
  },
  {
   "cell_type": "code",
   "execution_count": 25,
   "id": "8b1e3bdd",
   "metadata": {
    "execution": {
     "iopub.execute_input": "2023-08-13T18:16:52.409259Z",
     "iopub.status.busy": "2023-08-13T18:16:52.408577Z",
     "iopub.status.idle": "2023-08-13T18:16:52.442519Z",
     "shell.execute_reply": "2023-08-13T18:16:52.441664Z"
    },
    "papermill": {
     "duration": 0.076436,
     "end_time": "2023-08-13T18:16:52.444950",
     "exception": false,
     "start_time": "2023-08-13T18:16:52.368514",
     "status": "completed"
    },
    "tags": []
   },
   "outputs": [],
   "source": [
    "#Splitting the data into train and validation sets\n",
    "\n",
    "from sklearn.model_selection import train_test_split\n",
    "X_train, X_val, y_train, y_val = train_test_split(X,y,test_size=0.2,random_state=42)"
   ]
  },
  {
   "cell_type": "markdown",
   "id": "07ed46f4",
   "metadata": {
    "papermill": {
     "duration": 0.037201,
     "end_time": "2023-08-13T18:16:52.519578",
     "exception": false,
     "start_time": "2023-08-13T18:16:52.482377",
     "status": "completed"
    },
    "tags": []
   },
   "source": [
    "# Feature Engineering - TF-IDF and Count Vectorizer"
   ]
  },
  {
   "cell_type": "code",
   "execution_count": 26,
   "id": "86f36958",
   "metadata": {
    "execution": {
     "iopub.execute_input": "2023-08-13T18:16:52.597059Z",
     "iopub.status.busy": "2023-08-13T18:16:52.596383Z",
     "iopub.status.idle": "2023-08-13T18:17:08.661446Z",
     "shell.execute_reply": "2023-08-13T18:17:08.660264Z"
    },
    "papermill": {
     "duration": 16.107206,
     "end_time": "2023-08-13T18:17:08.664452",
     "exception": false,
     "start_time": "2023-08-13T18:16:52.557246",
     "status": "completed"
    },
    "tags": []
   },
   "outputs": [],
   "source": [
    "#Used the TfidfVectorizer to convert the text data into numerical vectors with n-grams (word and word pairs).\n",
    "\n",
    "from sklearn.feature_extraction.text import TfidfVectorizer\n",
    "vect = TfidfVectorizer(ngram_range=(1,2))\n",
    "X_train_tfidf = vect.fit_transform(X_train)\n",
    "X_val_tfidf = vect.transform(X_val)"
   ]
  },
  {
   "cell_type": "code",
   "execution_count": 27,
   "id": "20ee0956",
   "metadata": {
    "execution": {
     "iopub.execute_input": "2023-08-13T18:17:08.743071Z",
     "iopub.status.busy": "2023-08-13T18:17:08.742674Z",
     "iopub.status.idle": "2023-08-13T18:17:24.455312Z",
     "shell.execute_reply": "2023-08-13T18:17:24.454373Z"
    },
    "papermill": {
     "duration": 15.755401,
     "end_time": "2023-08-13T18:17:24.458083",
     "exception": false,
     "start_time": "2023-08-13T18:17:08.702682",
     "status": "completed"
    },
    "tags": []
   },
   "outputs": [],
   "source": [
    "#Used the CountVectorizer to convert the text data into numerical vectors with n-grams (word and word pairs).\n",
    "\n",
    "from sklearn.feature_extraction.text import CountVectorizer\n",
    "vect_2=CountVectorizer(max_features=369900,ngram_range=(1,2))\n",
    "X_train_count=vect_2.fit_transform(X_train)\n",
    "X_val_count=vect_2.transform(X_val)"
   ]
  },
  {
   "cell_type": "markdown",
   "id": "a5040cff",
   "metadata": {
    "papermill": {
     "duration": 0.03779,
     "end_time": "2023-08-13T18:17:24.533840",
     "exception": false,
     "start_time": "2023-08-13T18:17:24.496050",
     "status": "completed"
    },
    "tags": []
   },
   "source": [
    "# Feature Selection"
   ]
  },
  {
   "cell_type": "code",
   "execution_count": 28,
   "id": "d54a9498",
   "metadata": {
    "execution": {
     "iopub.execute_input": "2023-08-13T18:17:24.611264Z",
     "iopub.status.busy": "2023-08-13T18:17:24.610502Z",
     "iopub.status.idle": "2023-08-13T18:17:24.617757Z",
     "shell.execute_reply": "2023-08-13T18:17:24.616677Z"
    },
    "papermill": {
     "duration": 0.048803,
     "end_time": "2023-08-13T18:17:24.620286",
     "exception": false,
     "start_time": "2023-08-13T18:17:24.571483",
     "status": "completed"
    },
    "tags": []
   },
   "outputs": [
    {
     "data": {
      "text/plain": [
       "'from sklearn.feature_selection import SelectKBest, chi2\\nnum_features_to_select = 69900\\nselector = SelectKBest(score_func=chi2, k=num_features_to_select)\\nX_train_selected = selector.fit_transform(X_train_count, y_train)\\nX_val_selected = selector.transform(X_val_count)'"
      ]
     },
     "execution_count": 28,
     "metadata": {},
     "output_type": "execute_result"
    }
   ],
   "source": [
    "#Apply SelectKBest for feature selection\n",
    "#Used chi-squared as the scoring function and selected the top features\n",
    "\n",
    "'''from sklearn.feature_selection import SelectKBest, chi2\n",
    "num_features_to_select = 69900\n",
    "selector = SelectKBest(score_func=chi2, k=num_features_to_select)\n",
    "X_train_selected = selector.fit_transform(X_train_count, y_train)\n",
    "X_val_selected = selector.transform(X_val_count)'''\n",
    "\n",
    "#Commented as not giving much effect"
   ]
  },
  {
   "cell_type": "markdown",
   "id": "28db75be",
   "metadata": {
    "papermill": {
     "duration": 0.03754,
     "end_time": "2023-08-13T18:17:24.695984",
     "exception": false,
     "start_time": "2023-08-13T18:17:24.658444",
     "status": "completed"
    },
    "tags": []
   },
   "source": [
    "> # 3rd Approach"
   ]
  },
  {
   "cell_type": "code",
   "execution_count": 29,
   "id": "1568a167",
   "metadata": {
    "execution": {
     "iopub.execute_input": "2023-08-13T18:17:24.776939Z",
     "iopub.status.busy": "2023-08-13T18:17:24.776227Z",
     "iopub.status.idle": "2023-08-13T18:17:26.422469Z",
     "shell.execute_reply": "2023-08-13T18:17:26.421245Z"
    },
    "papermill": {
     "duration": 1.689827,
     "end_time": "2023-08-13T18:17:26.424999",
     "exception": false,
     "start_time": "2023-08-13T18:17:24.735172",
     "status": "completed"
    },
    "tags": []
   },
   "outputs": [
    {
     "data": {
      "text/html": [
       "<div>\n",
       "<style scoped>\n",
       "    .dataframe tbody tr th:only-of-type {\n",
       "        vertical-align: middle;\n",
       "    }\n",
       "\n",
       "    .dataframe tbody tr th {\n",
       "        vertical-align: top;\n",
       "    }\n",
       "\n",
       "    .dataframe thead th {\n",
       "        text-align: right;\n",
       "    }\n",
       "</style>\n",
       "<table border=\"1\" class=\"dataframe\">\n",
       "  <thead>\n",
       "    <tr style=\"text-align: right;\">\n",
       "      <th></th>\n",
       "      <th>movieid</th>\n",
       "      <th>audienceScore</th>\n",
       "      <th>runtimeMinutes</th>\n",
       "      <th>rating</th>\n",
       "      <th>genre</th>\n",
       "      <th>director</th>\n",
       "      <th>originalLanguage</th>\n",
       "    </tr>\n",
       "  </thead>\n",
       "  <tbody>\n",
       "    <tr>\n",
       "      <th>0</th>\n",
       "      <td>adventure_anakin_skywalker</td>\n",
       "      <td>49.0</td>\n",
       "      <td>96.0</td>\n",
       "      <td>R</td>\n",
       "      <td>Comedy</td>\n",
       "      <td>Autumn Gonzalez</td>\n",
       "      <td>English</td>\n",
       "    </tr>\n",
       "    <tr>\n",
       "      <th>1</th>\n",
       "      <td>adventure_anakin_skywalker_chronicles_whisper</td>\n",
       "      <td>50.0</td>\n",
       "      <td>90.0</td>\n",
       "      <td>R</td>\n",
       "      <td>Drama</td>\n",
       "      <td>Mark Machado</td>\n",
       "      <td>English</td>\n",
       "    </tr>\n",
       "    <tr>\n",
       "      <th>2</th>\n",
       "      <td>adventure_astonish</td>\n",
       "      <td>40.0</td>\n",
       "      <td>90.0</td>\n",
       "      <td>R</td>\n",
       "      <td>Comedy</td>\n",
       "      <td>Doreen Edison</td>\n",
       "      <td>English</td>\n",
       "    </tr>\n",
       "    <tr>\n",
       "      <th>3</th>\n",
       "      <td>adventure_astonish_wondrous_beneath</td>\n",
       "      <td>60.0</td>\n",
       "      <td>96.0</td>\n",
       "      <td>R</td>\n",
       "      <td>Romance</td>\n",
       "      <td>Joshua Harper</td>\n",
       "      <td>English</td>\n",
       "    </tr>\n",
       "    <tr>\n",
       "      <th>4</th>\n",
       "      <td>adventure_aurora_epic</td>\n",
       "      <td>50.0</td>\n",
       "      <td>60.0</td>\n",
       "      <td>R</td>\n",
       "      <td>Drama</td>\n",
       "      <td>Abel Edwards</td>\n",
       "      <td>English</td>\n",
       "    </tr>\n",
       "  </tbody>\n",
       "</table>\n",
       "</div>"
      ],
      "text/plain": [
       "                                         movieid  audienceScore  \\\n",
       "0                     adventure_anakin_skywalker           49.0   \n",
       "1  adventure_anakin_skywalker_chronicles_whisper           50.0   \n",
       "2                             adventure_astonish           40.0   \n",
       "3            adventure_astonish_wondrous_beneath           60.0   \n",
       "4                          adventure_aurora_epic           50.0   \n",
       "\n",
       "   runtimeMinutes rating    genre         director originalLanguage  \n",
       "0            96.0      R   Comedy  Autumn Gonzalez          English  \n",
       "1            90.0      R    Drama     Mark Machado          English  \n",
       "2            90.0      R   Comedy    Doreen Edison          English  \n",
       "3            96.0      R  Romance    Joshua Harper          English  \n",
       "4            60.0      R    Drama     Abel Edwards          English  "
      ]
     },
     "execution_count": 29,
     "metadata": {},
     "output_type": "execute_result"
    }
   ],
   "source": [
    "#  STEP 1.------>\n",
    "#Importing necessary libraries\n",
    "from sklearn.preprocessing import OneHotEncoder, StandardScaler, MinMaxScaler\n",
    "from sklearn.feature_extraction.text import TfidfVectorizer, CountVectorizer\n",
    "from sklearn.compose import ColumnTransformer\n",
    "\n",
    "#------------------------------------------------------------------------------------------------------#\n",
    "#------------------------------------------------------------------------------------------------------#\n",
    "#  STEP 2.------>\n",
    "#Preprocessing data to make it ready for use.\n",
    "#Copying train dataframe to 'train' variable\n",
    "'''train=data\n",
    "#Took out 2 columns from test_data\n",
    "to_merge=test_data[['reviewerName','isTopCritic']]\n",
    "\n",
    "#Grouped above selected columns according to the 'reviewerName' column.\n",
    "gr = to_merge.groupby('reviewerName').agg({\n",
    "    'isTopCritic': 'first',\n",
    "}).reset_index()\n",
    "\n",
    "#Now, merging above grouped columns in train data w.r.t 'reviewerName'.\n",
    "new_merg=train.merge(gr,on='reviewerName',how='left')\n",
    "\n",
    "#Defining another column in train data that contains the information of reviewers who are both frequent and critic.\n",
    "new_merg['isFrequentAndTopCritic'] = new_merg['isFrequentReviewer'] & new_merg['isTopCritic']\n",
    "\n",
    "#Now, grouping 2 columns of train data according to 'reviewerName' column.\n",
    "mer_in_test=new_merg.groupby('reviewerName').agg({\n",
    "    'isFrequentReviewer': 'first',\n",
    "    'isFrequentAndTopCritic' : 'first'\n",
    "}).reset_index()\n",
    "#Merged above grouped columns in test_data. (New_test_data)\n",
    "new_mer_test=test_data.merge(mer_in_test,on='reviewerName',how='left')\n",
    "#Stored newly merged train data into 'data' variable\n",
    "data=new_merg'''\n",
    "\n",
    "#------------------------------------------------------------------------------------------------------#\n",
    "#------------------------------------------------------------------------------------------------------#\n",
    "\n",
    "#Imputation on movie and train data.\n",
    "data_2['genre'].fillna(data_2['genre'].mode()[0],inplace=True)\n",
    "data['reviewerName'].fillna(data['reviewerName'].mode()[0],inplace=True)\n",
    "data_2['director'].fillna(data_2['director'].mode()[0],inplace=True)\n",
    "data_2['originalLanguage'].fillna(data_2['originalLanguage'].mode()[0],inplace=True)\n",
    "data_2['audienceScore'].fillna(data_2['audienceScore'].mode()[0],inplace=True)\n",
    "data_2['rating'].fillna(data_2['rating'].mode()[0],inplace=True)\n",
    "data['reviewText'].fillna(data['reviewText'].mode()[0],inplace=True)\n",
    "data_2['runtimeMinutes'].fillna(data_2['runtimeMinutes'].mode()[0],inplace=True)\n",
    "data_2['releaseDateStreaming'].fillna(data_2['releaseDateStreaming'].mode()[0],inplace=True)\n",
    "data_2['releaseDateTheaters'].fillna(data_2['releaseDateTheaters'].mode()[0],inplace=True)\n",
    "data_2['distributor'].fillna(data_2['distributor'].mode()[0],inplace=True)\n",
    "\n",
    "\n",
    "#Conversion of 'releaseDateStreaming' column values into date-time.\n",
    "data_2['releaseDateStreaming'] = pd.to_datetime(data_2['releaseDateStreaming'])\n",
    "#Extracting and storing day of week from the date.\n",
    "data_2['day_of_week'] = data_2['releaseDateStreaming'].dt.dayofweek\n",
    "\n",
    "\n",
    "#Checking that day is weekend or not and storing in a column name 'is_weekend'\n",
    "#As this information might be helpful in prediction as it tends to attract larger audiences.\n",
    "#A larger audience can lead to a wider range of opinions and sentiments in movie reviews.\n",
    "data_2['is_weekend'] = data_2['day_of_week'].isin([5, 6]).astype(int)\n",
    "data_2['releaseDateTheaters'] = pd.to_datetime(data_2['releaseDateTheaters'])\n",
    "data_2['day_of_week2'] = data_2['releaseDateTheaters'].dt.dayofweek\n",
    "data_2['is_weekend2'] = data_2['day_of_week2'].isin([5, 6]).astype(int)\n",
    "\n",
    "\n",
    "data_2['ratingContents'].fillna(data_2['ratingContents'].mode()[0],inplace=True)\n",
    "#data_2['genre'].fillna(data_2['genre'].mode()[0],inplace=True)\n",
    "\n",
    "def pre_process(txt):\n",
    "  clear_txt = \"[]'\"\n",
    "  txt = ''.join(char for char in txt if char not in clear_txt)\n",
    "  txt = txt.lower()\n",
    "  return txt\n",
    "data_2['ratingContents']=data_2['ratingContents'].apply(pre_process)\n",
    "\n",
    "\n",
    "\n",
    "#Grouped the columns from 'movie' dataset\n",
    "grouped_df = data_2.groupby('movieid').agg({\n",
    "    'audienceScore': 'mean',\n",
    "    'runtimeMinutes': 'mean',\n",
    "    'rating': 'first',\n",
    "    'genre': 'first',\n",
    "    'director': 'first',\n",
    "    'originalLanguage': 'first'\n",
    "}).reset_index()\n",
    "\n",
    "grouped_df.head()  #Columns to be merged with train data"
   ]
  },
  {
   "cell_type": "code",
   "execution_count": 30,
   "id": "f0e2da00",
   "metadata": {
    "execution": {
     "iopub.execute_input": "2023-08-13T18:17:26.503789Z",
     "iopub.status.busy": "2023-08-13T18:17:26.503366Z",
     "iopub.status.idle": "2023-08-13T18:17:26.523490Z",
     "shell.execute_reply": "2023-08-13T18:17:26.522386Z"
    },
    "papermill": {
     "duration": 0.062472,
     "end_time": "2023-08-13T18:17:26.525905",
     "exception": false,
     "start_time": "2023-08-13T18:17:26.463433",
     "status": "completed"
    },
    "tags": []
   },
   "outputs": [
    {
     "data": {
      "text/html": [
       "<div>\n",
       "<style scoped>\n",
       "    .dataframe tbody tr th:only-of-type {\n",
       "        vertical-align: middle;\n",
       "    }\n",
       "\n",
       "    .dataframe tbody tr th {\n",
       "        vertical-align: top;\n",
       "    }\n",
       "\n",
       "    .dataframe thead th {\n",
       "        text-align: right;\n",
       "    }\n",
       "</style>\n",
       "<table border=\"1\" class=\"dataframe\">\n",
       "  <thead>\n",
       "    <tr style=\"text-align: right;\">\n",
       "      <th></th>\n",
       "      <th>movieid</th>\n",
       "      <th>audienceScore</th>\n",
       "      <th>runtimeMinutes</th>\n",
       "      <th>rating</th>\n",
       "      <th>genre</th>\n",
       "      <th>director</th>\n",
       "      <th>originalLanguage</th>\n",
       "    </tr>\n",
       "  </thead>\n",
       "  <tbody>\n",
       "    <tr>\n",
       "      <th>0</th>\n",
       "      <td>adventure_anakin_skywalker</td>\n",
       "      <td>49.0</td>\n",
       "      <td>96.0</td>\n",
       "      <td>R</td>\n",
       "      <td>Comedy</td>\n",
       "      <td>Autumn Gonzalez</td>\n",
       "      <td>English</td>\n",
       "    </tr>\n",
       "    <tr>\n",
       "      <th>1</th>\n",
       "      <td>adventure_anakin_skywalker_chronicles_whisper</td>\n",
       "      <td>50.0</td>\n",
       "      <td>90.0</td>\n",
       "      <td>R</td>\n",
       "      <td>Drama</td>\n",
       "      <td>Mark Machado</td>\n",
       "      <td>English</td>\n",
       "    </tr>\n",
       "    <tr>\n",
       "      <th>2</th>\n",
       "      <td>adventure_astonish</td>\n",
       "      <td>40.0</td>\n",
       "      <td>90.0</td>\n",
       "      <td>R</td>\n",
       "      <td>Comedy</td>\n",
       "      <td>Doreen Edison</td>\n",
       "      <td>English</td>\n",
       "    </tr>\n",
       "    <tr>\n",
       "      <th>3</th>\n",
       "      <td>adventure_astonish_wondrous_beneath</td>\n",
       "      <td>60.0</td>\n",
       "      <td>96.0</td>\n",
       "      <td>R</td>\n",
       "      <td>Romance</td>\n",
       "      <td>Joshua Harper</td>\n",
       "      <td>English</td>\n",
       "    </tr>\n",
       "    <tr>\n",
       "      <th>4</th>\n",
       "      <td>adventure_aurora_epic</td>\n",
       "      <td>50.0</td>\n",
       "      <td>60.0</td>\n",
       "      <td>R</td>\n",
       "      <td>Drama</td>\n",
       "      <td>Abel Edwards</td>\n",
       "      <td>English</td>\n",
       "    </tr>\n",
       "    <tr>\n",
       "      <th>5</th>\n",
       "      <td>adventure_aurora_gandalf</td>\n",
       "      <td>50.0</td>\n",
       "      <td>92.0</td>\n",
       "      <td>R</td>\n",
       "      <td>Adventure, Drama</td>\n",
       "      <td>Pearl Gonzales</td>\n",
       "      <td>English</td>\n",
       "    </tr>\n",
       "    <tr>\n",
       "      <th>6</th>\n",
       "      <td>adventure_aurora_velvet_frodo_baggins</td>\n",
       "      <td>50.0</td>\n",
       "      <td>101.0</td>\n",
       "      <td>R</td>\n",
       "      <td>Comedy</td>\n",
       "      <td>Louise Garcia</td>\n",
       "      <td>English</td>\n",
       "    </tr>\n",
       "    <tr>\n",
       "      <th>7</th>\n",
       "      <td>adventure_beneath</td>\n",
       "      <td>50.0</td>\n",
       "      <td>14.0</td>\n",
       "      <td>R</td>\n",
       "      <td>Drama</td>\n",
       "      <td>Joseph Brooks</td>\n",
       "      <td>English</td>\n",
       "    </tr>\n",
       "    <tr>\n",
       "      <th>8</th>\n",
       "      <td>adventure_beneath_fortune</td>\n",
       "      <td>60.0</td>\n",
       "      <td>90.0</td>\n",
       "      <td>R</td>\n",
       "      <td>Drama</td>\n",
       "      <td>Joseph Brooks</td>\n",
       "      <td>English</td>\n",
       "    </tr>\n",
       "    <tr>\n",
       "      <th>9</th>\n",
       "      <td>adventure_black_widow</td>\n",
       "      <td>50.0</td>\n",
       "      <td>80.0</td>\n",
       "      <td>R</td>\n",
       "      <td>Kids &amp; family, Comedy, Adventure, Animation</td>\n",
       "      <td>Russell Chavez</td>\n",
       "      <td>German</td>\n",
       "    </tr>\n",
       "    <tr>\n",
       "      <th>10</th>\n",
       "      <td>adventure_black_widow_anakin_skywalker</td>\n",
       "      <td>50.0</td>\n",
       "      <td>143.0</td>\n",
       "      <td>R</td>\n",
       "      <td>Action, Comedy</td>\n",
       "      <td>Cynthia Greene</td>\n",
       "      <td>Tamil</td>\n",
       "    </tr>\n",
       "    <tr>\n",
       "      <th>11</th>\n",
       "      <td>adventure_black_widow_celestial</td>\n",
       "      <td>60.0</td>\n",
       "      <td>90.0</td>\n",
       "      <td>R</td>\n",
       "      <td>Romance, Comedy</td>\n",
       "      <td>Kevin May</td>\n",
       "      <td>Thai</td>\n",
       "    </tr>\n",
       "    <tr>\n",
       "      <th>12</th>\n",
       "      <td>adventure_black_widow_wonder</td>\n",
       "      <td>50.0</td>\n",
       "      <td>39.0</td>\n",
       "      <td>R</td>\n",
       "      <td>Documentary, Action, War</td>\n",
       "      <td>Timothy Jenkins</td>\n",
       "      <td>English</td>\n",
       "    </tr>\n",
       "    <tr>\n",
       "      <th>13</th>\n",
       "      <td>adventure_brave</td>\n",
       "      <td>57.0</td>\n",
       "      <td>11.0</td>\n",
       "      <td>R</td>\n",
       "      <td>Romance, Comedy</td>\n",
       "      <td>Hilda Arzu</td>\n",
       "      <td>English</td>\n",
       "    </tr>\n",
       "    <tr>\n",
       "      <th>14</th>\n",
       "      <td>adventure_brave_magic_dazzling</td>\n",
       "      <td>50.0</td>\n",
       "      <td>62.0</td>\n",
       "      <td>R</td>\n",
       "      <td>Documentary</td>\n",
       "      <td>Beverly White</td>\n",
       "      <td>Spanish</td>\n",
       "    </tr>\n",
       "  </tbody>\n",
       "</table>\n",
       "</div>"
      ],
      "text/plain": [
       "                                          movieid  audienceScore  \\\n",
       "0                      adventure_anakin_skywalker           49.0   \n",
       "1   adventure_anakin_skywalker_chronicles_whisper           50.0   \n",
       "2                              adventure_astonish           40.0   \n",
       "3             adventure_astonish_wondrous_beneath           60.0   \n",
       "4                           adventure_aurora_epic           50.0   \n",
       "5                        adventure_aurora_gandalf           50.0   \n",
       "6           adventure_aurora_velvet_frodo_baggins           50.0   \n",
       "7                               adventure_beneath           50.0   \n",
       "8                       adventure_beneath_fortune           60.0   \n",
       "9                           adventure_black_widow           50.0   \n",
       "10         adventure_black_widow_anakin_skywalker           50.0   \n",
       "11                adventure_black_widow_celestial           60.0   \n",
       "12                   adventure_black_widow_wonder           50.0   \n",
       "13                                adventure_brave           57.0   \n",
       "14                 adventure_brave_magic_dazzling           50.0   \n",
       "\n",
       "    runtimeMinutes rating                                        genre  \\\n",
       "0             96.0      R                                       Comedy   \n",
       "1             90.0      R                                        Drama   \n",
       "2             90.0      R                                       Comedy   \n",
       "3             96.0      R                                      Romance   \n",
       "4             60.0      R                                        Drama   \n",
       "5             92.0      R                             Adventure, Drama   \n",
       "6            101.0      R                                       Comedy   \n",
       "7             14.0      R                                        Drama   \n",
       "8             90.0      R                                        Drama   \n",
       "9             80.0      R  Kids & family, Comedy, Adventure, Animation   \n",
       "10           143.0      R                               Action, Comedy   \n",
       "11            90.0      R                              Romance, Comedy   \n",
       "12            39.0      R                     Documentary, Action, War   \n",
       "13            11.0      R                              Romance, Comedy   \n",
       "14            62.0      R                                  Documentary   \n",
       "\n",
       "           director originalLanguage  \n",
       "0   Autumn Gonzalez          English  \n",
       "1      Mark Machado          English  \n",
       "2     Doreen Edison          English  \n",
       "3     Joshua Harper          English  \n",
       "4      Abel Edwards          English  \n",
       "5    Pearl Gonzales          English  \n",
       "6     Louise Garcia          English  \n",
       "7     Joseph Brooks          English  \n",
       "8     Joseph Brooks          English  \n",
       "9    Russell Chavez           German  \n",
       "10   Cynthia Greene            Tamil  \n",
       "11        Kevin May             Thai  \n",
       "12  Timothy Jenkins          English  \n",
       "13       Hilda Arzu          English  \n",
       "14    Beverly White          Spanish  "
      ]
     },
     "execution_count": 30,
     "metadata": {},
     "output_type": "execute_result"
    }
   ],
   "source": [
    "grouped_df.head(15)"
   ]
  },
  {
   "cell_type": "code",
   "execution_count": 31,
   "id": "d64adf73",
   "metadata": {
    "execution": {
     "iopub.execute_input": "2023-08-13T18:17:26.606057Z",
     "iopub.status.busy": "2023-08-13T18:17:26.605231Z",
     "iopub.status.idle": "2023-08-13T18:17:26.613336Z",
     "shell.execute_reply": "2023-08-13T18:17:26.612265Z"
    },
    "papermill": {
     "duration": 0.050588,
     "end_time": "2023-08-13T18:17:26.615586",
     "exception": false,
     "start_time": "2023-08-13T18:17:26.564998",
     "status": "completed"
    },
    "tags": []
   },
   "outputs": [
    {
     "data": {
      "text/plain": [
       "\"data['reviewText'].fillna(data['reviewText'].mode()[0],inplace=True)\\ntrain_grouped_df = data.groupby('movieid').agg({\\n    'reviewerName': ', '.join,\\n    'reviewText' : ' '.join\\n}).reset_index()\\ntrain_grouped_df\\n\\ndef count_names(names_str):\\n        return len(names_str.split(','))\\n\\n# Apply the function to the 'names' column and store the result in a new column 'name_count'\\ntrain_grouped_df['reviewer_count'] = train_grouped_df['reviewerName'].apply(count_names)\\ntrain_grouped_df['total_review_text_length'] = (train_grouped_df['reviewText'].apply(lambda x: len(x.split())))//20\\ntrain_grouped_df['audienceEngagement'] = train_grouped_df['reviewer_count']*train_grouped_df['total_review_text_length']\\n#train_grouped_df=train_grouped_df.drop(columns='reviewerName')\\n\\ntrain_grouped_df=train_grouped_df.drop(columns=['reviewerName','reviewText'])\\nt_merged_df = data.merge(train_grouped_df, on='movieid', how='left')\""
      ]
     },
     "execution_count": 31,
     "metadata": {},
     "output_type": "execute_result"
    }
   ],
   "source": [
    "#Making new columns from given information----------------------------------------------------------#\n",
    "'''data['reviewText'].fillna(data['reviewText'].mode()[0],inplace=True)\n",
    "train_grouped_df = data.groupby('movieid').agg({\n",
    "    'reviewerName': ', '.join,\n",
    "    'reviewText' : ' '.join\n",
    "}).reset_index()\n",
    "train_grouped_df\n",
    "\n",
    "def count_names(names_str):\n",
    "        return len(names_str.split(','))\n",
    "\n",
    "# Apply the function to the 'names' column and store the result in a new column 'name_count'\n",
    "train_grouped_df['reviewer_count'] = train_grouped_df['reviewerName'].apply(count_names)\n",
    "train_grouped_df['total_review_text_length'] = (train_grouped_df['reviewText'].apply(lambda x: len(x.split())))//20\n",
    "train_grouped_df['audienceEngagement'] = train_grouped_df['reviewer_count']*train_grouped_df['total_review_text_length']\n",
    "#train_grouped_df=train_grouped_df.drop(columns='reviewerName')\n",
    "\n",
    "train_grouped_df=train_grouped_df.drop(columns=['reviewerName','reviewText'])\n",
    "t_merged_df = data.merge(train_grouped_df, on='movieid', how='left')'''\n",
    "#------------------------------------------------------------------------------------------------------#"
   ]
  },
  {
   "cell_type": "code",
   "execution_count": 32,
   "id": "006efb81",
   "metadata": {
    "execution": {
     "iopub.execute_input": "2023-08-13T18:17:26.695041Z",
     "iopub.status.busy": "2023-08-13T18:17:26.694356Z",
     "iopub.status.idle": "2023-08-13T18:17:45.051112Z",
     "shell.execute_reply": "2023-08-13T18:17:45.049812Z"
    },
    "papermill": {
     "duration": 18.399957,
     "end_time": "2023-08-13T18:17:45.054044",
     "exception": false,
     "start_time": "2023-08-13T18:17:26.654087",
     "status": "completed"
    },
    "tags": []
   },
   "outputs": [],
   "source": [
    "#Merged above grouped set of movie column with 'train' dataset.\n",
    "\n",
    "merged_df = data.merge(grouped_df, on='movieid', how='left')\n",
    "Xi=merged_df.drop(columns='sentiment')\n",
    "yi=merged_df['sentiment']\n",
    "\n",
    "#Calculating reviewLength as it might be informative in terms of expressing sentiments.\n",
    "Xi['reviewLength'] = Xi['reviewText'].apply(lambda x: len(x.split()))\n",
    "#Xi['titleLength'] = Xi['title'].apply(lambda x: len(x.split()))\n",
    "#Xi['Text_ratC']=Xi['reviewText']+' '+Xi['ratingContents']\n",
    "\n",
    "#  STEP 3.------> \n",
    "#Importing necessary libraries to split merged data into train and validation.\n",
    "from sklearn.model_selection import train_test_split\n",
    "X__train, X_valid, y__train, y_valid = train_test_split(Xi, yi, test_size=0.2, random_state=42)\n",
    "\n",
    "#Defined transformers for feature scaling, encoding, and vectorization\n",
    "audience_score_transformer = StandardScaler()\n",
    "rating_language_transformer = OneHotEncoder(handle_unknown='ignore')\n",
    "review_text_transformer = TfidfVectorizer(ngram_range=(1,2))\n",
    "\n",
    "\n",
    "#Created the column transformer with appropriate transformers for different columns.\n",
    "preprocessor_3 = ColumnTransformer(transformers=[\n",
    "    ('audience_score', audience_score_transformer, ['audienceScore']),\n",
    "    ('category', rating_language_transformer, ['rating','originalLanguage','director','reviewerName','genre']),\n",
    "    ('review_text', review_text_transformer, 'reviewText'),\n",
    "    #('skip', 'passthrough', ['is_weekend2'])\n",
    "])\n",
    "\n",
    "#Fitting and transforming the data using the preprocessor for different columns\n",
    "X_train__transformed = preprocessor_3.fit_transform(X__train)\n",
    "X__val_transformed = preprocessor_3.transform(X_valid)\n",
    "\n",
    "#------------------------------------------------------------------------------------------------------#\n",
    "#Applied MultiLabelBinarizer separately for 'genre' and 'director' columns\n",
    "#mlb_genre = MultiLabelBinarizer()\n",
    "#mlb_director = MultiLabelBinarizer()\n",
    "\n",
    "#genre_encoded = mlb_genre.fit_transform(merged_df['genre'].apply(lambda x: x.split(', ')))\n",
    "#director_train_encoded = mlb_director.fit_transform(X__train['director'].apply(lambda x: x.split(', ')))\n",
    "#director_val_encoded = mlb_director.transform(X_valid['director'].apply(lambda x: x.split(', ')))\n",
    "\n",
    "#Created DataFrames for the binarized 'genre' and 'director' columns\n",
    "#genre_df = pd.DataFrame(genre_encoded, columns=mlb_genre.classes_)\n",
    "#director_train_df = pd.DataFrame(director_train_encoded)\n",
    "#director_val_df = pd.DataFrame(director_val_encoded)\n",
    "\n",
    "#Concatenated the binarized DataFrames with the original DataFrame\n",
    "#X_train_f = pd.concat([pd.DataFrame(X_train_transformed), director_train_df], axis=1)\n",
    "#X_val_f = pd.concat([pd.DataFrame(X_val_transformed), director_val_df], axis=1)\n"
   ]
  },
  {
   "cell_type": "markdown",
   "id": "a367de49",
   "metadata": {
    "papermill": {
     "duration": 0.038487,
     "end_time": "2023-08-13T18:17:45.132853",
     "exception": false,
     "start_time": "2023-08-13T18:17:45.094366",
     "status": "completed"
    },
    "tags": []
   },
   "source": [
    "> # Feature selection ( Using SelectKBest )"
   ]
  },
  {
   "cell_type": "code",
   "execution_count": 33,
   "id": "e7d5948c",
   "metadata": {
    "execution": {
     "iopub.execute_input": "2023-08-13T18:17:45.213380Z",
     "iopub.status.busy": "2023-08-13T18:17:45.212747Z",
     "iopub.status.idle": "2023-08-13T18:17:47.463378Z",
     "shell.execute_reply": "2023-08-13T18:17:47.462203Z"
    },
    "papermill": {
     "duration": 2.294195,
     "end_time": "2023-08-13T18:17:47.466106",
     "exception": false,
     "start_time": "2023-08-13T18:17:45.171911",
     "status": "completed"
    },
    "tags": []
   },
   "outputs": [],
   "source": [
    "#Importing libraries\n",
    "from sklearn.feature_selection import SelectKBest, chi2,f_classif\n",
    "num_features_to_select = 74728     #72740\n",
    "selector_3 = SelectKBest(score_func=f_classif, k=num_features_to_select)\n",
    "X_train__selected = selector_3.fit_transform(X_train__transformed, y__train)\n",
    "X_val__selected = selector_3.transform(X__val_transformed)"
   ]
  },
  {
   "cell_type": "markdown",
   "id": "3ae04dca",
   "metadata": {
    "papermill": {
     "duration": 0.038451,
     "end_time": "2023-08-13T18:17:47.543806",
     "exception": false,
     "start_time": "2023-08-13T18:17:47.505355",
     "status": "completed"
    },
    "tags": []
   },
   "source": [
    "> # Feature selection ( Using SelectFromModel )"
   ]
  },
  {
   "cell_type": "code",
   "execution_count": 34,
   "id": "a06a27f0",
   "metadata": {
    "execution": {
     "iopub.execute_input": "2023-08-13T18:17:47.624614Z",
     "iopub.status.busy": "2023-08-13T18:17:47.623426Z",
     "iopub.status.idle": "2023-08-13T18:18:36.914554Z",
     "shell.execute_reply": "2023-08-13T18:18:36.913224Z"
    },
    "papermill": {
     "duration": 49.337019,
     "end_time": "2023-08-13T18:18:36.920102",
     "exception": false,
     "start_time": "2023-08-13T18:17:47.583083",
     "status": "completed"
    },
    "tags": []
   },
   "outputs": [],
   "source": [
    "#Used SelectFromModel feature selection method.\n",
    "from sklearn.linear_model import LogisticRegression\n",
    "from sklearn.feature_selection import SelectFromModel\n",
    "\n",
    "# Created a logistic regression model with L1 regularization (Lasso)\n",
    "logreg = LogisticRegression(penalty='l2', solver='liblinear', random_state=42, max_iter=2000)\n",
    "\n",
    "# Created a SelectFromModel transformer using the logistic regression model\n",
    "selector_3 = SelectFromModel(logreg)\n",
    "\n",
    "# Fitted the selector on the transformed X_train and get the selected features\n",
    "X_train__selected_3 = selector_3.fit_transform(X_train__transformed, y__train)\n",
    "\n",
    "# Transformed X_val to keep only the selected features\n",
    "X_val__selected_3 = selector_3.transform(X__val_transformed)"
   ]
  },
  {
   "cell_type": "code",
   "execution_count": null,
   "id": "75b129c4",
   "metadata": {
    "execution": {
     "iopub.execute_input": "2023-08-12T16:30:31.596720Z",
     "iopub.status.busy": "2023-08-12T16:30:31.596282Z",
     "iopub.status.idle": "2023-08-12T16:30:31.608856Z",
     "shell.execute_reply": "2023-08-12T16:30:31.607712Z",
     "shell.execute_reply.started": "2023-08-12T16:30:31.596679Z"
    },
    "papermill": {
     "duration": 0.038764,
     "end_time": "2023-08-13T18:18:36.998282",
     "exception": false,
     "start_time": "2023-08-13T18:18:36.959518",
     "status": "completed"
    },
    "tags": []
   },
   "outputs": [],
   "source": []
  },
  {
   "cell_type": "markdown",
   "id": "1650e887",
   "metadata": {
    "papermill": {
     "duration": 0.038656,
     "end_time": "2023-08-13T18:18:37.075958",
     "exception": false,
     "start_time": "2023-08-13T18:18:37.037302",
     "status": "completed"
    },
    "tags": []
   },
   "source": [
    "> # Fourth Approach ( Prediction after Balancing the data )"
   ]
  },
  {
   "cell_type": "code",
   "execution_count": 35,
   "id": "c0d77821",
   "metadata": {
    "execution": {
     "iopub.execute_input": "2023-08-13T18:18:37.156251Z",
     "iopub.status.busy": "2023-08-13T18:18:37.155811Z",
     "iopub.status.idle": "2023-08-13T18:18:38.592417Z",
     "shell.execute_reply": "2023-08-13T18:18:38.591476Z"
    },
    "papermill": {
     "duration": 1.480209,
     "end_time": "2023-08-13T18:18:38.594977",
     "exception": false,
     "start_time": "2023-08-13T18:18:37.114768",
     "status": "completed"
    },
    "tags": []
   },
   "outputs": [],
   "source": [
    "# Loading the data ( Separating it from above approaches )\n",
    "import pandas as pd\n",
    "train_csv=pd.read_csv(\"/kaggle/input/sentiment-prediction-on-movie-reviews/train.csv\")\n",
    "movies_csv=pd.read_csv(\"/kaggle/input/sentiment-prediction-on-movie-reviews/movies.csv\")\n",
    "test_csv=pd.read_csv(\"/kaggle/input/sentiment-prediction-on-movie-reviews/test.csv\")"
   ]
  },
  {
   "cell_type": "code",
   "execution_count": 36,
   "id": "72e34436",
   "metadata": {
    "execution": {
     "iopub.execute_input": "2023-08-13T18:18:38.674337Z",
     "iopub.status.busy": "2023-08-13T18:18:38.673913Z",
     "iopub.status.idle": "2023-08-13T18:18:38.763701Z",
     "shell.execute_reply": "2023-08-13T18:18:38.762261Z"
    },
    "papermill": {
     "duration": 0.132206,
     "end_time": "2023-08-13T18:18:38.766133",
     "exception": false,
     "start_time": "2023-08-13T18:18:38.633927",
     "status": "completed"
    },
    "tags": []
   },
   "outputs": [
    {
     "name": "stdout",
     "output_type": "stream",
     "text": [
      "(108761,)\n",
      "(53997,)\n"
     ]
    }
   ],
   "source": [
    "#Checking Distribution of 'POSITIVE' and 'NEGATIVE' sentiments\n",
    "print(train_csv[train_csv['sentiment']=='POSITIVE']['reviewerName'].shape)\n",
    "print(train_csv[train_csv['sentiment']=='NEGATIVE']['reviewerName'].shape)"
   ]
  },
  {
   "cell_type": "code",
   "execution_count": 37,
   "id": "00e6b0e7",
   "metadata": {
    "execution": {
     "iopub.execute_input": "2023-08-13T18:18:38.847740Z",
     "iopub.status.busy": "2023-08-13T18:18:38.847009Z",
     "iopub.status.idle": "2023-08-13T18:19:01.882914Z",
     "shell.execute_reply": "2023-08-13T18:19:01.881806Z"
    },
    "papermill": {
     "duration": 23.079702,
     "end_time": "2023-08-13T18:19:01.885701",
     "exception": false,
     "start_time": "2023-08-13T18:18:38.805999",
     "status": "completed"
    },
    "tags": []
   },
   "outputs": [],
   "source": [
    "\n",
    "#Grouped the columns from 'movie' dataset\n",
    "grouped_df_4 = data_2.groupby('movieid').agg({\n",
    "    'audienceScore': 'mean',\n",
    "    #'is_weekend' : 'first',\n",
    "    #'is_weekend2' : 'first',\n",
    "    'rating': 'first',\n",
    "    'genre': ', '.join,\n",
    "    'director': 'first',\n",
    "    'originalLanguage': 'first',\n",
    "    #'title': 'first',\n",
    "    'distributor': 'first',\n",
    "    'ratingContents': ','.join\n",
    "                                    ###Rating has less impact-----\n",
    "}).reset_index()\n",
    "for i in range(len(grouped_df_4['genre'])):\n",
    "    rating_contents = grouped_df_4.at[i, 'genre'].split(',')\n",
    "    if len(rating_contents) > 1:\n",
    "        grouped_df_4.at[i, 'genre'] = rating_contents[0]\n",
    "    else:\n",
    "        grouped_df_4.at[i, 'genre'] = rating_contents[0]\n",
    "for i in range(len(grouped_df_4['ratingContents'])):\n",
    "    rating_contents = grouped_df_4.at[i, 'ratingContents'].split(',')\n",
    "    if len(rating_contents) > 1:\n",
    "        grouped_df_4.at[i, 'ratingContents'] = rating_contents[0]\n",
    "    else:\n",
    "        grouped_df_4.at[i, 'ratingContents'] = rating_contents[0]\n"
   ]
  },
  {
   "cell_type": "code",
   "execution_count": 38,
   "id": "306a0c18",
   "metadata": {
    "execution": {
     "iopub.execute_input": "2023-08-13T18:19:01.966341Z",
     "iopub.status.busy": "2023-08-13T18:19:01.965919Z",
     "iopub.status.idle": "2023-08-13T18:19:02.199080Z",
     "shell.execute_reply": "2023-08-13T18:19:02.197940Z"
    },
    "papermill": {
     "duration": 0.27711,
     "end_time": "2023-08-13T18:19:02.201942",
     "exception": false,
     "start_time": "2023-08-13T18:19:01.924832",
     "status": "completed"
    },
    "tags": []
   },
   "outputs": [],
   "source": [
    "#Now merging train and grouped dataframe of movies dataset (picked from 3rd approach)\n",
    "train_merge = train_csv.merge(grouped_df_4, on='movieid', how='left')"
   ]
  },
  {
   "cell_type": "code",
   "execution_count": 39,
   "id": "ea054e4b",
   "metadata": {
    "execution": {
     "iopub.execute_input": "2023-08-13T18:19:02.281425Z",
     "iopub.status.busy": "2023-08-13T18:19:02.280794Z",
     "iopub.status.idle": "2023-08-13T18:19:02.287287Z",
     "shell.execute_reply": "2023-08-13T18:19:02.286382Z"
    },
    "papermill": {
     "duration": 0.048865,
     "end_time": "2023-08-13T18:19:02.289609",
     "exception": false,
     "start_time": "2023-08-13T18:19:02.240744",
     "status": "completed"
    },
    "tags": []
   },
   "outputs": [
    {
     "data": {
      "text/plain": [
       "(162758, 12)"
      ]
     },
     "execution_count": 39,
     "metadata": {},
     "output_type": "execute_result"
    }
   ],
   "source": [
    "train_merge.shape"
   ]
  },
  {
   "cell_type": "code",
   "execution_count": 40,
   "id": "65c73711",
   "metadata": {
    "execution": {
     "iopub.execute_input": "2023-08-13T18:19:02.370017Z",
     "iopub.status.busy": "2023-08-13T18:19:02.369362Z",
     "iopub.status.idle": "2023-08-13T18:19:02.519576Z",
     "shell.execute_reply": "2023-08-13T18:19:02.518725Z"
    },
    "papermill": {
     "duration": 0.193586,
     "end_time": "2023-08-13T18:19:02.522091",
     "exception": false,
     "start_time": "2023-08-13T18:19:02.328505",
     "status": "completed"
    },
    "tags": []
   },
   "outputs": [],
   "source": [
    "from sklearn.model_selection import train_test_split\n",
    "data_train, data_val = train_test_split(train_merge,test_size=0.2,random_state=42)"
   ]
  },
  {
   "cell_type": "code",
   "execution_count": 41,
   "id": "c0d79554",
   "metadata": {
    "execution": {
     "iopub.execute_input": "2023-08-13T18:19:02.601965Z",
     "iopub.status.busy": "2023-08-13T18:19:02.601324Z",
     "iopub.status.idle": "2023-08-13T18:19:02.682925Z",
     "shell.execute_reply": "2023-08-13T18:19:02.681682Z"
    },
    "papermill": {
     "duration": 0.124768,
     "end_time": "2023-08-13T18:19:02.685691",
     "exception": false,
     "start_time": "2023-08-13T18:19:02.560923",
     "status": "completed"
    },
    "tags": []
   },
   "outputs": [],
   "source": [
    "#Separating rows with 'POSITIVE' sentiments in pos and rows with \"NEGATIVE\" sentiments in neg\n",
    "pos=data_train[data_train['sentiment']=='POSITIVE']\n",
    "neg=data_train[data_train['sentiment']=='NEGATIVE']"
   ]
  },
  {
   "cell_type": "code",
   "execution_count": 42,
   "id": "46f52134",
   "metadata": {
    "execution": {
     "iopub.execute_input": "2023-08-13T18:19:02.767578Z",
     "iopub.status.busy": "2023-08-13T18:19:02.767097Z",
     "iopub.status.idle": "2023-08-13T18:19:02.839001Z",
     "shell.execute_reply": "2023-08-13T18:19:02.837834Z"
    },
    "papermill": {
     "duration": 0.115634,
     "end_time": "2023-08-13T18:19:02.841593",
     "exception": false,
     "start_time": "2023-08-13T18:19:02.725959",
     "status": "completed"
    },
    "tags": []
   },
   "outputs": [
    {
     "name": "stdout",
     "output_type": "stream",
     "text": [
      "Filtered Positive reviews dataframe shape : (65723, 12)\n"
     ]
    }
   ],
   "source": [
    "#Removing rows from 'pos' dataframe in which reviewer has done less than 25 positive reviews.\n",
    "# All the rows containing those reviewer's who do less no of positive reviews are removed.\n",
    "\n",
    "#Storing 'pos' dataframe in df\n",
    "df=pos\n",
    "\n",
    "# Step 1: Grouped the DataFrame by \"reviewerName\" and \"sentiment\"\n",
    "grouped = df.groupby(['reviewerName', 'sentiment'])\n",
    "\n",
    "# Step 2: Counted the number of positive reviews for each reviewer\n",
    "positive_review_count = grouped.size().unstack().fillna(0).astype(int)\n",
    "\n",
    "# Step 3: Identify reviewers with less than 25 positive reviews\n",
    "reviewers_with_less_than_15_positive_reviews = positive_review_count['POSITIVE'] < 25\n",
    "\n",
    "# Step 4: Create a list of reviewer names meeting the criteria\n",
    "reviewers_to_remove = reviewers_with_less_than_15_positive_reviews[reviewers_with_less_than_15_positive_reviews].index.tolist()\n",
    "\n",
    "# Step 5: Filter the original DataFrame\n",
    "filtered_df_pos = df[~df['reviewerName'].isin(reviewers_to_remove)]\n",
    "\n",
    "# Display the shape of resulting DataFrame\n",
    "print(\"Filtered Positive reviews dataframe shape :\", (filtered_df_pos).shape)"
   ]
  },
  {
   "cell_type": "code",
   "execution_count": 43,
   "id": "819256be",
   "metadata": {
    "execution": {
     "iopub.execute_input": "2023-08-13T18:19:02.922659Z",
     "iopub.status.busy": "2023-08-13T18:19:02.921876Z",
     "iopub.status.idle": "2023-08-13T18:19:02.974823Z",
     "shell.execute_reply": "2023-08-13T18:19:02.973241Z"
    },
    "papermill": {
     "duration": 0.096746,
     "end_time": "2023-08-13T18:19:02.977348",
     "exception": false,
     "start_time": "2023-08-13T18:19:02.880602",
     "status": "completed"
    },
    "tags": []
   },
   "outputs": [
    {
     "name": "stdout",
     "output_type": "stream",
     "text": [
      "Filtered negative review Dataframe shape:  (59792, 12)\n"
     ]
    }
   ],
   "source": [
    "#For the dataframe stored with negative sentiments in 'neg', I am adding those rows in which reviewer has done more than 75 negative reviews.\n",
    "# Adding the data of all those reviewer's who do more negative reviews.\n",
    "\n",
    "# Step 1: Grouped the DataFrame by \"reviewerName\" and \"sentiment\"\n",
    "grouped = neg.groupby(['reviewerName', 'sentiment'])\n",
    "\n",
    "# Step 2: Counted the number of negative reviews for each reviewer\n",
    "review_count = grouped.size().unstack().fillna(0).astype(int)\n",
    "\n",
    "reviewers_with_more_than_75_negative_reviews = review_count['NEGATIVE'] > 60\n",
    "\n",
    "# Step 3: Create a list of reviewer names meeting the criteria\n",
    "reviewers_to_add = reviewers_with_more_than_75_negative_reviews[reviewers_with_more_than_75_negative_reviews].index.tolist()\n",
    "\n",
    "# Step 4: Filter the original DataFrame\n",
    "#filtered_df_ = filtered_df[~filtered_df['reviewerName'].isin(reviewers_to_add)]\n",
    "#print(filtered_df_)\n",
    "\n",
    "# Step 5: Created additional rows for reviewers with more than 75 negative reviews\n",
    "additional_rows = neg[neg['reviewerName'].isin(reviewers_to_add)]\n",
    "\n",
    "# Concatenate the filtered DataFrame with the additional rows\n",
    "filtered_df_neg = pd.concat([neg, additional_rows])\n",
    "\n",
    "# Display the resulting DataFrame\n",
    "print(\"Filtered negative review Dataframe shape: \",filtered_df_neg.shape)\n"
   ]
  },
  {
   "cell_type": "code",
   "execution_count": 44,
   "id": "b8c03a1e",
   "metadata": {
    "execution": {
     "iopub.execute_input": "2023-08-13T18:19:03.057912Z",
     "iopub.status.busy": "2023-08-13T18:19:03.057504Z",
     "iopub.status.idle": "2023-08-13T18:19:03.101034Z",
     "shell.execute_reply": "2023-08-13T18:19:03.099868Z"
    },
    "papermill": {
     "duration": 0.086815,
     "end_time": "2023-08-13T18:19:03.103212",
     "exception": false,
     "start_time": "2023-08-13T18:19:03.016397",
     "status": "completed"
    },
    "tags": []
   },
   "outputs": [
    {
     "data": {
      "text/plain": [
       "(125515, 12)"
      ]
     },
     "execution_count": 44,
     "metadata": {},
     "output_type": "execute_result"
    }
   ],
   "source": [
    "#Concatenating the above two created dataframes-------\n",
    "result_df=pd.concat([filtered_df_pos,filtered_df_neg],axis=0)\n",
    "result_df.shape"
   ]
  },
  {
   "cell_type": "code",
   "execution_count": 45,
   "id": "862da267",
   "metadata": {
    "execution": {
     "iopub.execute_input": "2023-08-13T18:19:03.185211Z",
     "iopub.status.busy": "2023-08-13T18:19:03.184113Z",
     "iopub.status.idle": "2023-08-13T18:19:03.308073Z",
     "shell.execute_reply": "2023-08-13T18:19:03.307062Z"
    },
    "papermill": {
     "duration": 0.16817,
     "end_time": "2023-08-13T18:19:03.310772",
     "exception": false,
     "start_time": "2023-08-13T18:19:03.142602",
     "status": "completed"
    },
    "tags": []
   },
   "outputs": [],
   "source": [
    "#Shuffled above concatenated dataframe\n",
    "final_data=result_df.sample(frac=1,random_state=140)"
   ]
  },
  {
   "cell_type": "code",
   "execution_count": 46,
   "id": "71d709ce",
   "metadata": {
    "execution": {
     "iopub.execute_input": "2023-08-13T18:19:03.391655Z",
     "iopub.status.busy": "2023-08-13T18:19:03.391231Z",
     "iopub.status.idle": "2023-08-13T18:19:03.475018Z",
     "shell.execute_reply": "2023-08-13T18:19:03.473965Z"
    },
    "papermill": {
     "duration": 0.127394,
     "end_time": "2023-08-13T18:19:03.477782",
     "exception": false,
     "start_time": "2023-08-13T18:19:03.350388",
     "status": "completed"
    },
    "tags": []
   },
   "outputs": [],
   "source": [
    "#Separating rows with 'POSITIVE' sentiments and 'NEGATIVE' sentiments\n",
    "final_neg=final_data[final_data['sentiment']=='NEGATIVE']\n",
    "final_pos=final_data[final_data['sentiment']=='POSITIVE']\n"
   ]
  },
  {
   "cell_type": "code",
   "execution_count": 47,
   "id": "5edf77bf",
   "metadata": {
    "execution": {
     "iopub.execute_input": "2023-08-13T18:19:03.559077Z",
     "iopub.status.busy": "2023-08-13T18:19:03.558628Z",
     "iopub.status.idle": "2023-08-13T18:19:03.705792Z",
     "shell.execute_reply": "2023-08-13T18:19:03.704557Z"
    },
    "papermill": {
     "duration": 0.190925,
     "end_time": "2023-08-13T18:19:03.708247",
     "exception": false,
     "start_time": "2023-08-13T18:19:03.517322",
     "status": "completed"
    },
    "tags": []
   },
   "outputs": [
    {
     "name": "stderr",
     "output_type": "stream",
     "text": [
      "/tmp/ipykernel_20/2734765993.py:2: SettingWithCopyWarning: \n",
      "A value is trying to be set on a copy of a slice from a DataFrame.\n",
      "Try using .loc[row_indexer,col_indexer] = value instead\n",
      "\n",
      "See the caveats in the documentation: https://pandas.pydata.org/pandas-docs/stable/user_guide/indexing.html#returning-a-view-versus-a-copy\n",
      "  final_neg['reviewText']=final_neg['reviewText'].fillna(final_neg['reviewText'].mode()[0])\n",
      "/tmp/ipykernel_20/2734765993.py:3: SettingWithCopyWarning: \n",
      "A value is trying to be set on a copy of a slice from a DataFrame.\n",
      "Try using .loc[row_indexer,col_indexer] = value instead\n",
      "\n",
      "See the caveats in the documentation: https://pandas.pydata.org/pandas-docs/stable/user_guide/indexing.html#returning-a-view-versus-a-copy\n",
      "  final_pos['reviewText']=final_pos['reviewText'].fillna(final_pos['reviewText'].mode()[0])\n"
     ]
    }
   ],
   "source": [
    "#Filling missing values separately on both dataframe----\n",
    "final_neg['reviewText']=final_neg['reviewText'].fillna(final_neg['reviewText'].mode()[0])\n",
    "final_pos['reviewText']=final_pos['reviewText'].fillna(final_pos['reviewText'].mode()[0])"
   ]
  },
  {
   "cell_type": "code",
   "execution_count": 48,
   "id": "9965da56",
   "metadata": {
    "execution": {
     "iopub.execute_input": "2023-08-13T18:19:03.789274Z",
     "iopub.status.busy": "2023-08-13T18:19:03.788885Z",
     "iopub.status.idle": "2023-08-13T18:19:06.616945Z",
     "shell.execute_reply": "2023-08-13T18:19:06.615856Z"
    },
    "papermill": {
     "duration": 2.872031,
     "end_time": "2023-08-13T18:19:06.619729",
     "exception": false,
     "start_time": "2023-08-13T18:19:03.747698",
     "status": "completed"
    },
    "tags": []
   },
   "outputs": [
    {
     "name": "stderr",
     "output_type": "stream",
     "text": [
      "/tmp/ipykernel_20/1753207746.py:8: SettingWithCopyWarning: \n",
      "A value is trying to be set on a copy of a slice from a DataFrame.\n",
      "Try using .loc[row_indexer,col_indexer] = value instead\n",
      "\n",
      "See the caveats in the documentation: https://pandas.pydata.org/pandas-docs/stable/user_guide/indexing.html#returning-a-view-versus-a-copy\n",
      "  final_neg['reviewText']=final_neg['reviewText'].apply(pre_process)\n",
      "/tmp/ipykernel_20/1753207746.py:9: SettingWithCopyWarning: \n",
      "A value is trying to be set on a copy of a slice from a DataFrame.\n",
      "Try using .loc[row_indexer,col_indexer] = value instead\n",
      "\n",
      "See the caveats in the documentation: https://pandas.pydata.org/pandas-docs/stable/user_guide/indexing.html#returning-a-view-versus-a-copy\n",
      "  final_pos['reviewText']=final_pos['reviewText'].apply(pre_process)\n"
     ]
    }
   ],
   "source": [
    "#Clearing the text of reviewText column having punctuations, symbols, numbers, etc.\n",
    "def pre_process(txt):\n",
    "  clear_txt = \"!@#$%^&*()_-+=’{}[]|\\:;'<>?,./\\\"0123456789\"\n",
    "  txt = ''.join(char for char in txt if char not in clear_txt)\n",
    "  txt = txt.lower()\n",
    "  return txt\n",
    "\n",
    "final_neg['reviewText']=final_neg['reviewText'].apply(pre_process)\n",
    "final_pos['reviewText']=final_pos['reviewText'].apply(pre_process)"
   ]
  },
  {
   "cell_type": "code",
   "execution_count": 49,
   "id": "bfa1ad58",
   "metadata": {
    "execution": {
     "iopub.execute_input": "2023-08-13T18:19:06.701702Z",
     "iopub.status.busy": "2023-08-13T18:19:06.701035Z",
     "iopub.status.idle": "2023-08-13T18:19:06.862677Z",
     "shell.execute_reply": "2023-08-13T18:19:06.861510Z"
    },
    "papermill": {
     "duration": 0.205197,
     "end_time": "2023-08-13T18:19:06.865409",
     "exception": false,
     "start_time": "2023-08-13T18:19:06.660212",
     "status": "completed"
    },
    "tags": []
   },
   "outputs": [],
   "source": [
    "#Finally concatenating the above two dataframes and shuffling the rows.\n",
    "final_new=pd.concat([final_pos,final_neg],axis=0)\n",
    "final_new_shuff=final_new.sample(frac=1,random_state=140)"
   ]
  },
  {
   "cell_type": "code",
   "execution_count": 50,
   "id": "5b67110c",
   "metadata": {
    "execution": {
     "iopub.execute_input": "2023-08-13T18:19:06.949003Z",
     "iopub.status.busy": "2023-08-13T18:19:06.948570Z",
     "iopub.status.idle": "2023-08-13T18:19:06.973846Z",
     "shell.execute_reply": "2023-08-13T18:19:06.972714Z"
    },
    "papermill": {
     "duration": 0.071051,
     "end_time": "2023-08-13T18:19:06.976431",
     "exception": false,
     "start_time": "2023-08-13T18:19:06.905380",
     "status": "completed"
    },
    "tags": []
   },
   "outputs": [],
   "source": [
    "Xn_train=final_new_shuff.drop('sentiment',axis=1)\n",
    "yn_train=final_new_shuff['sentiment']"
   ]
  },
  {
   "cell_type": "code",
   "execution_count": 51,
   "id": "e53ff5ef",
   "metadata": {
    "execution": {
     "iopub.execute_input": "2023-08-13T18:19:07.059154Z",
     "iopub.status.busy": "2023-08-13T18:19:07.057851Z",
     "iopub.status.idle": "2023-08-13T18:19:07.845792Z",
     "shell.execute_reply": "2023-08-13T18:19:07.844483Z"
    },
    "papermill": {
     "duration": 0.832223,
     "end_time": "2023-08-13T18:19:07.848417",
     "exception": false,
     "start_time": "2023-08-13T18:19:07.016194",
     "status": "completed"
    },
    "tags": []
   },
   "outputs": [],
   "source": [
    "data_val['reviewText']=data_val['reviewText'].fillna(data_val['reviewText'].mode()[0])\n",
    "data_val['reviewText']=data_val['reviewText'].apply(pre_process)"
   ]
  },
  {
   "cell_type": "code",
   "execution_count": 52,
   "id": "3f98cdf1",
   "metadata": {
    "execution": {
     "iopub.execute_input": "2023-08-13T18:19:07.931984Z",
     "iopub.status.busy": "2023-08-13T18:19:07.931610Z",
     "iopub.status.idle": "2023-08-13T18:19:07.943367Z",
     "shell.execute_reply": "2023-08-13T18:19:07.942007Z"
    },
    "papermill": {
     "duration": 0.056787,
     "end_time": "2023-08-13T18:19:07.945950",
     "exception": false,
     "start_time": "2023-08-13T18:19:07.889163",
     "status": "completed"
    },
    "tags": []
   },
   "outputs": [],
   "source": [
    "Xn_val=data_val.drop('sentiment',axis=1)\n",
    "yn_val=data_val['sentiment']"
   ]
  },
  {
   "cell_type": "code",
   "execution_count": 53,
   "id": "1be5d07b",
   "metadata": {
    "execution": {
     "iopub.execute_input": "2023-08-13T18:19:08.027619Z",
     "iopub.status.busy": "2023-08-13T18:19:08.027185Z",
     "iopub.status.idle": "2023-08-13T18:19:08.034557Z",
     "shell.execute_reply": "2023-08-13T18:19:08.033385Z"
    },
    "papermill": {
     "duration": 0.050405,
     "end_time": "2023-08-13T18:19:08.036690",
     "exception": false,
     "start_time": "2023-08-13T18:19:07.986285",
     "status": "completed"
    },
    "tags": []
   },
   "outputs": [
    {
     "data": {
      "text/plain": [
       "(32552, 11)"
      ]
     },
     "execution_count": 53,
     "metadata": {},
     "output_type": "execute_result"
    }
   ],
   "source": [
    "Xn_val.shape"
   ]
  },
  {
   "cell_type": "code",
   "execution_count": 54,
   "id": "66513e26",
   "metadata": {
    "execution": {
     "iopub.execute_input": "2023-08-13T18:19:08.120334Z",
     "iopub.status.busy": "2023-08-13T18:19:08.119547Z",
     "iopub.status.idle": "2023-08-13T18:19:08.124857Z",
     "shell.execute_reply": "2023-08-13T18:19:08.123684Z"
    },
    "papermill": {
     "duration": 0.048791,
     "end_time": "2023-08-13T18:19:08.127137",
     "exception": false,
     "start_time": "2023-08-13T18:19:08.078346",
     "status": "completed"
    },
    "tags": []
   },
   "outputs": [],
   "source": [
    "#X['reviewLength'] = X['reviewText'].apply(lambda x: len(x.split()))"
   ]
  },
  {
   "cell_type": "code",
   "execution_count": 55,
   "id": "6138aabd",
   "metadata": {
    "execution": {
     "iopub.execute_input": "2023-08-13T18:19:08.208864Z",
     "iopub.status.busy": "2023-08-13T18:19:08.208414Z",
     "iopub.status.idle": "2023-08-13T18:19:08.216238Z",
     "shell.execute_reply": "2023-08-13T18:19:08.215038Z"
    },
    "papermill": {
     "duration": 0.051162,
     "end_time": "2023-08-13T18:19:08.218494",
     "exception": false,
     "start_time": "2023-08-13T18:19:08.167332",
     "status": "completed"
    },
    "tags": []
   },
   "outputs": [],
   "source": [
    "#Applying encoding of categorical column and applying Tfidf to reviewText column-----\n",
    "from sklearn.preprocessing import OneHotEncoder, StandardScaler, MinMaxScaler\n",
    "from sklearn.feature_extraction.text import TfidfVectorizer, CountVectorizer\n",
    "from sklearn.compose import ColumnTransformer\n",
    "\n",
    "scale= MinMaxScaler()\n",
    "ohe = OneHotEncoder(handle_unknown='ignore')\n",
    "tfidf = TfidfVectorizer(ngram_range=(1,3),min_df=4,max_df=0.3)\n",
    "\n",
    "\n",
    "#Created the column transformer with appropriate transformers for different columns.\n",
    "preprocessor_4 = ColumnTransformer(transformers=[\n",
    "    ('audience_score', scale, ['audienceScore']),\n",
    "    ('category', ohe, ['movieid','genre']),\n",
    "    ('review_text', tfidf, 'reviewText')\n",
    "])"
   ]
  },
  {
   "cell_type": "code",
   "execution_count": 56,
   "id": "f8d89c8e",
   "metadata": {
    "execution": {
     "iopub.execute_input": "2023-08-13T18:19:08.301314Z",
     "iopub.status.busy": "2023-08-13T18:19:08.300887Z",
     "iopub.status.idle": "2023-08-13T18:19:27.062245Z",
     "shell.execute_reply": "2023-08-13T18:19:27.061316Z"
    },
    "papermill": {
     "duration": 18.805963,
     "end_time": "2023-08-13T18:19:27.064850",
     "exception": false,
     "start_time": "2023-08-13T18:19:08.258887",
     "status": "completed"
    },
    "tags": []
   },
   "outputs": [],
   "source": [
    "#Fitting the training data into preprocessor and transforming validation set.\n",
    "X_train_ = preprocessor_4.fit_transform(Xn_train)\n",
    "X_val_ = preprocessor_4.transform(Xn_val)"
   ]
  },
  {
   "cell_type": "code",
   "execution_count": null,
   "id": "3ee83708",
   "metadata": {
    "execution": {
     "iopub.execute_input": "2023-08-12T23:20:20.469465Z",
     "iopub.status.busy": "2023-08-12T23:20:20.468804Z",
     "iopub.status.idle": "2023-08-12T23:20:49.116222Z",
     "shell.execute_reply": "2023-08-12T23:20:49.114826Z",
     "shell.execute_reply.started": "2023-08-12T23:20:20.469422Z"
    },
    "papermill": {
     "duration": 0.041737,
     "end_time": "2023-08-13T18:19:27.148293",
     "exception": false,
     "start_time": "2023-08-13T18:19:27.106556",
     "status": "completed"
    },
    "tags": []
   },
   "outputs": [],
   "source": []
  },
  {
   "cell_type": "code",
   "execution_count": 57,
   "id": "4b087e06",
   "metadata": {
    "execution": {
     "iopub.execute_input": "2023-08-13T18:19:27.230679Z",
     "iopub.status.busy": "2023-08-13T18:19:27.230054Z",
     "iopub.status.idle": "2023-08-13T18:19:27.987340Z",
     "shell.execute_reply": "2023-08-13T18:19:27.986156Z"
    },
    "papermill": {
     "duration": 0.801871,
     "end_time": "2023-08-13T18:19:27.990591",
     "exception": false,
     "start_time": "2023-08-13T18:19:27.188720",
     "status": "completed"
    },
    "tags": []
   },
   "outputs": [],
   "source": [
    "#Importing libraries\n",
    "from sklearn.feature_selection import SelectKBest, chi2,f_classif\n",
    "num_features_to_select = 51740     #72740\n",
    "selector_4 = SelectKBest(score_func=f_classif, k=num_features_to_select)\n",
    "X_train = selector_4.fit_transform(X_train_, yn_train)\n",
    "X_val = selector_4.transform(X_val_)"
   ]
  },
  {
   "cell_type": "markdown",
   "id": "9419848b",
   "metadata": {
    "papermill": {
     "duration": 0.040092,
     "end_time": "2023-08-13T18:19:28.074208",
     "exception": false,
     "start_time": "2023-08-13T18:19:28.034116",
     "status": "completed"
    },
    "tags": []
   },
   "source": [
    "# Models"
   ]
  },
  {
   "cell_type": "markdown",
   "id": "5b1184c7",
   "metadata": {
    "papermill": {
     "duration": 0.041745,
     "end_time": "2023-08-13T18:19:28.156537",
     "exception": false,
     "start_time": "2023-08-13T18:19:28.114792",
     "status": "completed"
    },
    "tags": []
   },
   "source": [
    "# 1. LinearSVC"
   ]
  },
  {
   "cell_type": "code",
   "execution_count": 58,
   "id": "b3ae112c",
   "metadata": {
    "execution": {
     "iopub.execute_input": "2023-08-13T18:19:28.238610Z",
     "iopub.status.busy": "2023-08-13T18:19:28.238146Z",
     "iopub.status.idle": "2023-08-13T18:19:28.246694Z",
     "shell.execute_reply": "2023-08-13T18:19:28.245536Z"
    },
    "papermill": {
     "duration": 0.052988,
     "end_time": "2023-08-13T18:19:28.249240",
     "exception": false,
     "start_time": "2023-08-13T18:19:28.196252",
     "status": "completed"
    },
    "tags": []
   },
   "outputs": [
    {
     "data": {
      "text/plain": [
       "\"from sklearn.calibration import CalibratedClassifierCV\\nfrom sklearn.svm import LinearSVC\\nsv=LinearSVC(C=1.0032233,max_iter=2000)\\n\\n#Wrap LinearSVC with CalibratedClassifierCV\\ncalibrated_linear_svc_model = CalibratedClassifierCV(sv, method='sigmoid')\\n\\n#sv.fit(X_train_tfidf,y_train)\\ncalibrated_linear_svc_model.fit(X_train_tfidf,y_train)\\n\\n#Make predictions on the validation data\\ny_val_pred = calibrated_linear_svc_model.predict(X_val_tfidf)\\n\\n##Evaluating the model's performance by following 2nd approach\\nfrom sklearn.metrics import f1_score, classification_report, accuracy_score, confusion_matrix\\n#Calculating f1-score\\nscor=f1_score(y_val,y_val_pred,average='micro')\\nprint('F1-score : (Following 2nd Approach)',scor)\""
      ]
     },
     "execution_count": 58,
     "metadata": {},
     "output_type": "execute_result"
    }
   ],
   "source": [
    "#CalibratedClassifierCV can calibrate the decision function of a classifier to provide class probabilities\n",
    "#Used to make LinearSVC compatible with soft voting\n",
    "#LinearSVC does not have a built-in method to directly provide class probabilities \n",
    "\n",
    "'''from sklearn.calibration import CalibratedClassifierCV\n",
    "from sklearn.svm import LinearSVC\n",
    "sv=LinearSVC(C=1.0032233,max_iter=2000)\n",
    "\n",
    "#Wrap LinearSVC with CalibratedClassifierCV\n",
    "calibrated_linear_svc_model = CalibratedClassifierCV(sv, method='sigmoid')\n",
    "\n",
    "#sv.fit(X_train_tfidf,y_train)\n",
    "calibrated_linear_svc_model.fit(X_train_tfidf,y_train)\n",
    "\n",
    "#Make predictions on the validation data\n",
    "y_val_pred = calibrated_linear_svc_model.predict(X_val_tfidf)\n",
    "\n",
    "##Evaluating the model's performance by following 2nd approach\n",
    "from sklearn.metrics import f1_score, classification_report, accuracy_score, confusion_matrix\n",
    "#Calculating f1-score\n",
    "scor=f1_score(y_val,y_val_pred,average='micro')\n",
    "print('F1-score : (Following 2nd Approach)',scor)'''"
   ]
  },
  {
   "cell_type": "markdown",
   "id": "b10c90ce",
   "metadata": {
    "papermill": {
     "duration": 0.040141,
     "end_time": "2023-08-13T18:19:28.331137",
     "exception": false,
     "start_time": "2023-08-13T18:19:28.290996",
     "status": "completed"
    },
    "tags": []
   },
   "source": [
    "> # By using 3rd Approach"
   ]
  },
  {
   "cell_type": "code",
   "execution_count": 59,
   "id": "ef88a7cb",
   "metadata": {
    "execution": {
     "iopub.execute_input": "2023-08-13T18:19:28.414568Z",
     "iopub.status.busy": "2023-08-13T18:19:28.413722Z",
     "iopub.status.idle": "2023-08-13T18:20:31.379166Z",
     "shell.execute_reply": "2023-08-13T18:20:31.377983Z"
    },
    "papermill": {
     "duration": 63.010538,
     "end_time": "2023-08-13T18:20:31.382149",
     "exception": false,
     "start_time": "2023-08-13T18:19:28.371611",
     "status": "completed"
    },
    "tags": []
   },
   "outputs": [],
   "source": [
    "from sklearn.calibration import CalibratedClassifierCV\n",
    "from sklearn.svm import LinearSVC\n",
    "sv=LinearSVC(C=1.032233,max_iter=5000)\n",
    "\n",
    "#Wrap LinearSVC with CalibratedClassifierCV\n",
    "calibrated_linear_svc_model_final = CalibratedClassifierCV(sv, method='isotonic')\n",
    "\n",
    "#sv.fit(X_train_tfidf,y_train)\n",
    "calibrated_linear_svc_model_final.fit(X_train__selected_3 ,y__train)\n",
    "\n",
    "\n",
    "\n",
    "#Make predictions on the validation data\n",
    "y_val_pred = calibrated_linear_svc_model_final.predict(X_val__selected_3 )\n"
   ]
  },
  {
   "cell_type": "markdown",
   "id": "1f4ec6bb",
   "metadata": {
    "papermill": {
     "duration": 0.046966,
     "end_time": "2023-08-13T18:20:31.469647",
     "exception": false,
     "start_time": "2023-08-13T18:20:31.422681",
     "status": "completed"
    },
    "tags": []
   },
   "source": [
    "> # Evaluation of Model"
   ]
  },
  {
   "cell_type": "code",
   "execution_count": 60,
   "id": "1f5f9a32",
   "metadata": {
    "execution": {
     "iopub.execute_input": "2023-08-13T18:20:31.562345Z",
     "iopub.status.busy": "2023-08-13T18:20:31.561607Z",
     "iopub.status.idle": "2023-08-13T18:20:35.457778Z",
     "shell.execute_reply": "2023-08-13T18:20:35.456526Z"
    },
    "papermill": {
     "duration": 3.942395,
     "end_time": "2023-08-13T18:20:35.460334",
     "exception": false,
     "start_time": "2023-08-13T18:20:31.517939",
     "status": "completed"
    },
    "tags": []
   },
   "outputs": [
    {
     "name": "stdout",
     "output_type": "stream",
     "text": [
      "0.835954780044237\n",
      "Classification Report for Validation:               precision    recall  f1-score   support\n",
      "\n",
      "    NEGATIVE       0.77      0.71      0.74     10696\n",
      "    POSITIVE       0.86      0.90      0.88     21856\n",
      "\n",
      "    accuracy                           0.84     32552\n",
      "   macro avg       0.82      0.80      0.81     32552\n",
      "weighted avg       0.83      0.84      0.83     32552\n",
      "\n"
     ]
    },
    {
     "data": {
      "image/png": "[encoded data removed]",
      "text/plain": [
       "<Figure size 800x600 with 2 Axes>"
      ]
     },
     "metadata": {},
     "output_type": "display_data"
    }
   ],
   "source": [
    "##Evaluating the model's performance\n",
    "from sklearn.metrics import f1_score, classification_report, accuracy_score,confusion_matrix\n",
    "scor=f1_score(y_valid,y_val_pred,average='micro')\n",
    "print(scor)\n",
    "print('Classification Report for Validation:',classification_report(y_valid,y_val_pred))\n",
    "#print('Classification Report for Train:',classification_report(y__train,y_train_pred))\n",
    "\n",
    "confusion_mtx = confusion_matrix(y_valid, y_val_pred)\n",
    "from sklearn.preprocessing import LabelEncoder\n",
    "\n",
    "# Encoding 'y_valid' :  the target labels for the validation set\n",
    "label_encoder = LabelEncoder()\n",
    "y_val_encoded = label_encoder.fit_transform(y_valid)\n",
    "\n",
    "# Plotting the confusion matrix\n",
    "class_labels = label_encoder.classes_\n",
    "\n",
    "plt.figure(figsize=(8, 6))\n",
    "sns.heatmap(confusion_mtx, annot=True, cmap='Blues', fmt='d', xticklabels=class_labels, yticklabels=class_labels)\n",
    "plt.title(\"Confusion Matrix - Validation Set\")\n",
    "plt.xlabel(\"Predicted Label\")\n",
    "plt.ylabel(\"True Label\")\n",
    "plt.show()"
   ]
  },
  {
   "cell_type": "markdown",
   "id": "8edd661b",
   "metadata": {
    "papermill": {
     "duration": 0.04024,
     "end_time": "2023-08-13T18:20:35.541303",
     "exception": false,
     "start_time": "2023-08-13T18:20:35.501063",
     "status": "completed"
    },
    "tags": []
   },
   "source": [
    "# 2. LogisticRegression"
   ]
  },
  {
   "cell_type": "code",
   "execution_count": 61,
   "id": "b77140e7",
   "metadata": {
    "execution": {
     "iopub.execute_input": "2023-08-13T18:20:35.624722Z",
     "iopub.status.busy": "2023-08-13T18:20:35.623912Z",
     "iopub.status.idle": "2023-08-13T18:21:14.635308Z",
     "shell.execute_reply": "2023-08-13T18:21:14.634176Z"
    },
    "papermill": {
     "duration": 39.096878,
     "end_time": "2023-08-13T18:21:14.678633",
     "exception": false,
     "start_time": "2023-08-13T18:20:35.581755",
     "status": "completed"
    },
    "tags": []
   },
   "outputs": [
    {
     "data": {
      "text/plain": [
       "0.814297124600639"
      ]
     },
     "execution_count": 61,
     "metadata": {},
     "output_type": "execute_result"
    }
   ],
   "source": [
    "#Importing LogReg\n",
    "from sklearn.linear_model import LogisticRegression\n",
    "\n",
    "#Initializing the LogReg model\n",
    "logreg_model = LogisticRegression(solver='saga', max_iter=5000, random_state=42,C=0.402888)\n",
    "\n",
    "#Training the model\n",
    "logreg_model.fit(X_train_count, y_train)\n",
    "\n",
    "#Make predictions on the validation data\n",
    "y_val_pred = logreg_model.predict(X_val_count)\n",
    "\n",
    "##Evaluating the model's performance (By using 2nd Approach)\n",
    "from sklearn.metrics import f1_score, classification_report, accuracy_score, confusion_matrix\n",
    "scor=f1_score(y_val,y_val_pred,average='micro')\n",
    "scor\n"
   ]
  },
  {
   "cell_type": "code",
   "execution_count": 62,
   "id": "5e496e58",
   "metadata": {
    "execution": {
     "iopub.execute_input": "2023-08-13T18:21:14.762653Z",
     "iopub.status.busy": "2023-08-13T18:21:14.762230Z",
     "iopub.status.idle": "2023-08-13T18:21:14.768798Z",
     "shell.execute_reply": "2023-08-13T18:21:14.767742Z"
    },
    "papermill": {
     "duration": 0.052167,
     "end_time": "2023-08-13T18:21:14.771317",
     "exception": false,
     "start_time": "2023-08-13T18:21:14.719150",
     "status": "completed"
    },
    "tags": []
   },
   "outputs": [
    {
     "data": {
      "text/plain": [
       "\"logreg_model = LogisticRegression()\\n\\nparam_grid = {\\n    'C': [0.01, 0.1, 1, 5, 10],\\n    'penalty': ['l1', 'l2'],\\n    'solver': ['liblinear', 'lbfgs', 'saga'],\\n    'max_iter': [1000, 2000, 5000]\\n}\\n\\ngrid_search = GridSearchCV(logreg_model, param_grid, cv=5, scoring='f1_micro')\\ngrid_search.fit(X_train__selected, y__train)\\n\\nbest_params = grid_search.best_params_\\nbest_model = grid_search.best_estimator_\""
      ]
     },
     "execution_count": 62,
     "metadata": {},
     "output_type": "execute_result"
    }
   ],
   "source": [
    "#Hyper-parameter Tuning for LogReg (taking longer time)\n",
    "'''logreg_model = LogisticRegression()\n",
    "\n",
    "param_grid = {\n",
    "    'C': [0.01, 0.1, 1, 5, 10],\n",
    "    'penalty': ['l1', 'l2'],\n",
    "    'solver': ['liblinear', 'lbfgs', 'saga'],\n",
    "    'max_iter': [1000, 2000, 5000]\n",
    "}\n",
    "\n",
    "grid_search = GridSearchCV(logreg_model, param_grid, cv=5, scoring='f1_micro')\n",
    "grid_search.fit(X_train__selected, y__train)\n",
    "\n",
    "best_params = grid_search.best_params_\n",
    "best_model = grid_search.best_estimator_'''"
   ]
  },
  {
   "cell_type": "markdown",
   "id": "8516f1ab",
   "metadata": {
    "papermill": {
     "duration": 0.04068,
     "end_time": "2023-08-13T18:21:14.852809",
     "exception": false,
     "start_time": "2023-08-13T18:21:14.812129",
     "status": "completed"
    },
    "tags": []
   },
   "source": [
    "> # Using Pipeline"
   ]
  },
  {
   "cell_type": "code",
   "execution_count": 63,
   "id": "7c2c9b64",
   "metadata": {
    "execution": {
     "iopub.execute_input": "2023-08-13T18:21:14.938337Z",
     "iopub.status.busy": "2023-08-13T18:21:14.937896Z",
     "iopub.status.idle": "2023-08-13T18:21:14.944873Z",
     "shell.execute_reply": "2023-08-13T18:21:14.944072Z"
    },
    "papermill": {
     "duration": 0.052332,
     "end_time": "2023-08-13T18:21:14.946960",
     "exception": false,
     "start_time": "2023-08-13T18:21:14.894628",
     "status": "completed"
    },
    "tags": []
   },
   "outputs": [
    {
     "data": {
      "text/plain": [
       "\"from sklearn.pipeline import Pipeline\\npipeline_steps = [\\n    ('countV', vect_2),        # Text feature extraction using CountVectorizer\\n    ('classifier', logreg_model) # Logistic Regression classifier\\n]\\n\\n# Created the pipeline\\npipeline = Pipeline(steps=pipeline_steps)\\n\\n# Fit the pipeline on the training data\\n#pipeline.fit(X_train, y_train)\\n\\n#y_pred = pipeline.predict(X_val)\\n\\n##Evaluating the model's performance\\nfrom sklearn.metrics import f1_score, classification_report\\nscor=f1_score(y_val,y_pred,average='micro')\\nscor\\n\\nprint(classification_report(y_val, y_pred))\""
      ]
     },
     "execution_count": 63,
     "metadata": {},
     "output_type": "execute_result"
    }
   ],
   "source": [
    "#Using Pipeline\n",
    "'''from sklearn.pipeline import Pipeline\n",
    "pipeline_steps = [\n",
    "    ('countV', vect_2),        # Text feature extraction using CountVectorizer\n",
    "    ('classifier', logreg_model) # Logistic Regression classifier\n",
    "]\n",
    "\n",
    "# Created the pipeline\n",
    "pipeline = Pipeline(steps=pipeline_steps)\n",
    "\n",
    "# Fit the pipeline on the training data\n",
    "#pipeline.fit(X_train, y_train)\n",
    "\n",
    "#y_pred = pipeline.predict(X_val)\n",
    "\n",
    "##Evaluating the model's performance\n",
    "from sklearn.metrics import f1_score, classification_report\n",
    "scor=f1_score(y_val,y_pred,average='micro')\n",
    "scor\n",
    "\n",
    "print(classification_report(y_val, y_pred))'''"
   ]
  },
  {
   "cell_type": "markdown",
   "id": "c22804be",
   "metadata": {
    "papermill": {
     "duration": 0.041004,
     "end_time": "2023-08-13T18:21:15.030081",
     "exception": false,
     "start_time": "2023-08-13T18:21:14.989077",
     "status": "completed"
    },
    "tags": []
   },
   "source": [
    "> # By using 3rd Approach (Merging datasets)"
   ]
  },
  {
   "cell_type": "code",
   "execution_count": 64,
   "id": "946a0357",
   "metadata": {
    "execution": {
     "iopub.execute_input": "2023-08-13T18:21:15.115251Z",
     "iopub.status.busy": "2023-08-13T18:21:15.114811Z",
     "iopub.status.idle": "2023-08-13T18:22:32.149410Z",
     "shell.execute_reply": "2023-08-13T18:22:32.148300Z"
    },
    "papermill": {
     "duration": 77.080742,
     "end_time": "2023-08-13T18:22:32.152433",
     "exception": false,
     "start_time": "2023-08-13T18:21:15.071691",
     "status": "completed"
    },
    "tags": []
   },
   "outputs": [],
   "source": [
    "#Importing LogReg\n",
    "from sklearn.linear_model import LogisticRegression\n",
    "\n",
    "#Initializing the LogReg model\n",
    "logreg_model_final = LogisticRegression(penalty='l2',solver='liblinear', max_iter=5000, random_state=42,C=7.402888)\n",
    "\n",
    "#Training the model\n",
    "logreg_model_final.fit(X_train__selected_3 , y__train)\n",
    "\n",
    "y_train_pred = logreg_model_final.predict(X_train__selected_3 )\n",
    "#Make predictions on the validation data\n",
    "y_val_pred_ = logreg_model_final.predict(X_val__selected_3 )"
   ]
  },
  {
   "cell_type": "markdown",
   "id": "1ddf4238",
   "metadata": {
    "papermill": {
     "duration": 0.040668,
     "end_time": "2023-08-13T18:22:32.235745",
     "exception": false,
     "start_time": "2023-08-13T18:22:32.195077",
     "status": "completed"
    },
    "tags": []
   },
   "source": [
    "> # Evaluation of the Model"
   ]
  },
  {
   "cell_type": "code",
   "execution_count": 65,
   "id": "199772b0",
   "metadata": {
    "execution": {
     "iopub.execute_input": "2023-08-13T18:22:32.319799Z",
     "iopub.status.busy": "2023-08-13T18:22:32.319133Z",
     "iopub.status.idle": "2023-08-13T18:22:36.201475Z",
     "shell.execute_reply": "2023-08-13T18:22:36.200517Z"
    },
    "papermill": {
     "duration": 3.927259,
     "end_time": "2023-08-13T18:22:36.203909",
     "exception": false,
     "start_time": "2023-08-13T18:22:32.276650",
     "status": "completed"
    },
    "tags": []
   },
   "outputs": [
    {
     "name": "stdout",
     "output_type": "stream",
     "text": [
      "0.836108380437454\n",
      "Classification Report for Validation:               precision    recall  f1-score   support\n",
      "\n",
      "    NEGATIVE       0.78      0.70      0.74     10696\n",
      "    POSITIVE       0.86      0.90      0.88     21856\n",
      "\n",
      "    accuracy                           0.84     32552\n",
      "   macro avg       0.82      0.80      0.81     32552\n",
      "weighted avg       0.83      0.84      0.83     32552\n",
      "\n"
     ]
    },
    {
     "data": {
      "image/png": "[encoded data removed]",
      "text/plain": [
       "<Figure size 800x600 with 2 Axes>"
      ]
     },
     "metadata": {},
     "output_type": "display_data"
    }
   ],
   "source": [
    "##Evaluating the model's performance\n",
    "from sklearn.metrics import f1_score, classification_report, accuracy_score, confusion_matrix\n",
    "scor=f1_score(y_valid,y_val_pred_,average='micro')\n",
    "print(scor)\n",
    "print('Classification Report for Validation:',classification_report(y_valid,y_val_pred_))\n",
    "#print('Classification Report for Train:',classification_report(y__train,y_train_pred))\n",
    "\n",
    "confusion_mtx = confusion_matrix(y_valid, y_val_pred_)\n",
    "# Plotting the confusion matrix\n",
    "class_labels = label_encoder.classes_\n",
    "\n",
    "plt.figure(figsize=(8, 6))\n",
    "sns.heatmap(confusion_mtx, annot=True, cmap='Blues', fmt='d', xticklabels=class_labels, yticklabels=class_labels)\n",
    "plt.title(\"Confusion Matrix - Validation Set\")\n",
    "plt.xlabel(\"Predicted Label\")\n",
    "plt.ylabel(\"True Label\")\n",
    "plt.show()"
   ]
  },
  {
   "cell_type": "markdown",
   "id": "e686fa4d",
   "metadata": {
    "papermill": {
     "duration": 0.041574,
     "end_time": "2023-08-13T18:22:36.287849",
     "exception": false,
     "start_time": "2023-08-13T18:22:36.246275",
     "status": "completed"
    },
    "tags": []
   },
   "source": [
    "> # By using Fourth Approach ( After Balancing the data )"
   ]
  },
  {
   "cell_type": "code",
   "execution_count": 66,
   "id": "f3700db4",
   "metadata": {
    "execution": {
     "iopub.execute_input": "2023-08-13T18:22:36.373714Z",
     "iopub.status.busy": "2023-08-13T18:22:36.373292Z",
     "iopub.status.idle": "2023-08-13T18:23:03.486039Z",
     "shell.execute_reply": "2023-08-13T18:23:03.484770Z"
    },
    "papermill": {
     "duration": 27.158683,
     "end_time": "2023-08-13T18:23:03.488412",
     "exception": false,
     "start_time": "2023-08-13T18:22:36.329729",
     "status": "completed"
    },
    "tags": []
   },
   "outputs": [
    {
     "name": "stdout",
     "output_type": "stream",
     "text": [
      "0.823943229294667\n",
      "Classification Report for Validation:               precision    recall  f1-score   support\n",
      "\n",
      "    NEGATIVE       0.71      0.77      0.74     10696\n",
      "    POSITIVE       0.88      0.85      0.87     21856\n",
      "\n",
      "    accuracy                           0.82     32552\n",
      "   macro avg       0.80      0.81      0.80     32552\n",
      "weighted avg       0.83      0.82      0.83     32552\n",
      "\n",
      "Classification Report for Train:               precision    recall  f1-score   support\n",
      "\n",
      "    NEGATIVE       0.89      0.89      0.89     59792\n",
      "    POSITIVE       0.90      0.90      0.90     65723\n",
      "\n",
      "    accuracy                           0.89    125515\n",
      "   macro avg       0.89      0.89      0.89    125515\n",
      "weighted avg       0.89      0.89      0.89    125515\n",
      "\n"
     ]
    }
   ],
   "source": [
    "#Importing LogReg\n",
    "from sklearn.linear_model import LogisticRegression\n",
    "\n",
    "#Initializing the LogReg model\n",
    "logreg_model_final2 = LogisticRegression(solver='saga', max_iter=3000, random_state=42,C=2.402888)\n",
    "\n",
    "#Training the model\n",
    "logreg_model_final2.fit(X_train , yn_train)\n",
    "\n",
    "#Prediction on train set (for checking accuracy)\n",
    "y_train_pred = logreg_model_final2.predict(X_train)\n",
    "#Make predictions on the validation data\n",
    "y_val_pred_ = logreg_model_final2.predict(X_val)\n",
    "from sklearn.metrics import f1_score, classification_report, accuracy_score,confusion_matrix\n",
    "scor=f1_score(yn_val,y_val_pred_,average='micro')\n",
    "print(scor)\n",
    "print('Classification Report for Validation:',classification_report(yn_val,y_val_pred_))\n",
    "print('Classification Report for Train:',classification_report(yn_train,y_train_pred))"
   ]
  },
  {
   "cell_type": "markdown",
   "id": "0108bfb9",
   "metadata": {
    "papermill": {
     "duration": 0.042646,
     "end_time": "2023-08-13T18:23:03.574539",
     "exception": false,
     "start_time": "2023-08-13T18:23:03.531893",
     "status": "completed"
    },
    "tags": []
   },
   "source": [
    "# 3. MultinomialNB"
   ]
  },
  {
   "cell_type": "code",
   "execution_count": 67,
   "id": "aafa2c4e",
   "metadata": {
    "execution": {
     "iopub.execute_input": "2023-08-13T18:23:03.662429Z",
     "iopub.status.busy": "2023-08-13T18:23:03.662012Z",
     "iopub.status.idle": "2023-08-13T18:23:04.697722Z",
     "shell.execute_reply": "2023-08-13T18:23:04.696373Z"
    },
    "papermill": {
     "duration": 1.082989,
     "end_time": "2023-08-13T18:23:04.700703",
     "exception": false,
     "start_time": "2023-08-13T18:23:03.617714",
     "status": "completed"
    },
    "tags": []
   },
   "outputs": [],
   "source": [
    "from sklearn.naive_bayes import MultinomialNB\n",
    "mod = MultinomialNB(alpha=1.744)\n",
    "mod.fit(X_train_count , y_train)\n",
    "\n",
    "y_val_pred = mod.predict(X_val_count)\n",
    "y_train_pred = mod.predict(X_train_count)\n"
   ]
  },
  {
   "cell_type": "code",
   "execution_count": 68,
   "id": "f0ea36bd",
   "metadata": {
    "execution": {
     "iopub.execute_input": "2023-08-13T18:23:04.787850Z",
     "iopub.status.busy": "2023-08-13T18:23:04.787380Z",
     "iopub.status.idle": "2023-08-13T18:23:04.795074Z",
     "shell.execute_reply": "2023-08-13T18:23:04.794003Z"
    },
    "papermill": {
     "duration": 0.05367,
     "end_time": "2023-08-13T18:23:04.797383",
     "exception": false,
     "start_time": "2023-08-13T18:23:04.743713",
     "status": "completed"
    },
    "tags": []
   },
   "outputs": [
    {
     "data": {
      "text/plain": [
       "\"from sklearn.naive_bayes import MultinomialNB\\nfrom sklearn.model_selection import GridSearchCV\\nmnb_model = MultinomialNB()\\nparam_grid = {'alpha': [0.1,1.0,2.0,0.5,0.9,0,2,3]}\\ngrid_search = GridSearchCV(mnb_model, param_grid,cv=5, scoring='f1_micro')\\ngrid_search.fit(X_train_selected, y_train)\\n\\n#Finding the best model\\nbest_mnb_model = grid_search.best_estimator_\\ny_val_pred = best_mnb_model.predict(X_val_selected)\\n\\nfrom sklearn.metrics import f1_score\\nscor=f1_score(y_val,y_val_pred,average='micro')\\nscor\""
      ]
     },
     "execution_count": 68,
     "metadata": {},
     "output_type": "execute_result"
    }
   ],
   "source": [
    "#Hyperparameter Tuning for MNB\n",
    "#Performing hyperparameter tuning for MultinomialNB using GridSearchCV\n",
    "\n",
    "'''from sklearn.naive_bayes import MultinomialNB\n",
    "from sklearn.model_selection import GridSearchCV\n",
    "mnb_model = MultinomialNB()\n",
    "param_grid = {'alpha': [0.1,1.0,2.0,0.5,0.9,0,2,3]}\n",
    "grid_search = GridSearchCV(mnb_model, param_grid,cv=5, scoring='f1_micro')\n",
    "grid_search.fit(X_train_selected, y_train)\n",
    "\n",
    "#Finding the best model\n",
    "best_mnb_model = grid_search.best_estimator_\n",
    "y_val_pred = best_mnb_model.predict(X_val_selected)\n",
    "\n",
    "from sklearn.metrics import f1_score\n",
    "scor=f1_score(y_val,y_val_pred,average='micro')\n",
    "scor'''"
   ]
  },
  {
   "cell_type": "markdown",
   "id": "9b599e13",
   "metadata": {
    "papermill": {
     "duration": 0.042785,
     "end_time": "2023-08-13T18:23:04.882897",
     "exception": false,
     "start_time": "2023-08-13T18:23:04.840112",
     "status": "completed"
    },
    "tags": []
   },
   "source": [
    "> # Evaluation of the Model"
   ]
  },
  {
   "cell_type": "code",
   "execution_count": 69,
   "id": "b589fdd1",
   "metadata": {
    "execution": {
     "iopub.execute_input": "2023-08-13T18:23:04.970657Z",
     "iopub.status.busy": "2023-08-13T18:23:04.970228Z",
     "iopub.status.idle": "2023-08-13T18:23:08.206407Z",
     "shell.execute_reply": "2023-08-13T18:23:08.205263Z"
    },
    "papermill": {
     "duration": 3.28335,
     "end_time": "2023-08-13T18:23:08.209176",
     "exception": false,
     "start_time": "2023-08-13T18:23:04.925826",
     "status": "completed"
    },
    "tags": []
   },
   "outputs": [
    {
     "name": "stdout",
     "output_type": "stream",
     "text": [
      "0.8031457360530843\n",
      "Classification Report for Validation:               precision    recall  f1-score   support\n",
      "\n",
      "    NEGATIVE       0.81      0.53      0.64     10696\n",
      "    POSITIVE       0.80      0.94      0.86     21856\n",
      "\n",
      "    accuracy                           0.80     32552\n",
      "   macro avg       0.80      0.73      0.75     32552\n",
      "weighted avg       0.80      0.80      0.79     32552\n",
      "\n"
     ]
    },
    {
     "data": {
      "image/png": "[encoded data removed]",
      "text/plain": [
       "<Figure size 800x600 with 2 Axes>"
      ]
     },
     "metadata": {},
     "output_type": "display_data"
    }
   ],
   "source": [
    "##Evaluating the model's performance\n",
    "from sklearn.metrics import f1_score, classification_report, accuracy_score\n",
    "scor=f1_score(y_val,y_val_pred,average='micro')\n",
    "print(scor)\n",
    "print('Classification Report for Validation:',classification_report(y_val,y_val_pred))\n",
    "#print('Classification Report for Train:',classification_report(y__train,y_train_pred))\n",
    "\n",
    "confusion_mtx = confusion_matrix(y_val, y_val_pred)\n",
    "# Plot the confusion matrix\n",
    "class_labels = label_encoder.classes_\n",
    "\n",
    "# Plotting the confusion matrix\n",
    "plt.figure(figsize=(8, 6))\n",
    "sns.heatmap(confusion_mtx, annot=True, cmap='Blues', fmt='d', xticklabels=class_labels, yticklabels=class_labels)\n",
    "plt.title(\"Confusion Matrix - Validation Set\")\n",
    "plt.xlabel(\"Predicted Label\")\n",
    "plt.ylabel(\"True Label\")\n",
    "plt.show()"
   ]
  },
  {
   "cell_type": "markdown",
   "id": "546dd887",
   "metadata": {
    "papermill": {
     "duration": 0.045441,
     "end_time": "2023-08-13T18:23:08.298339",
     "exception": false,
     "start_time": "2023-08-13T18:23:08.252898",
     "status": "completed"
    },
    "tags": []
   },
   "source": [
    "# 4. GradientBoosting"
   ]
  },
  {
   "cell_type": "code",
   "execution_count": 70,
   "id": "adf0d02a",
   "metadata": {
    "execution": {
     "iopub.execute_input": "2023-08-13T18:23:08.388399Z",
     "iopub.status.busy": "2023-08-13T18:23:08.387148Z",
     "iopub.status.idle": "2023-08-13T18:23:08.395063Z",
     "shell.execute_reply": "2023-08-13T18:23:08.393914Z"
    },
    "papermill": {
     "duration": 0.055145,
     "end_time": "2023-08-13T18:23:08.397298",
     "exception": false,
     "start_time": "2023-08-13T18:23:08.342153",
     "status": "completed"
    },
    "tags": []
   },
   "outputs": [
    {
     "data": {
      "text/plain": [
       "\"from sklearn.ensemble import GradientBoostingClassifier\\ngb_model = GradientBoostingClassifier(random_state=42)\\ngb_model.fit(X_train_selected, y_train)\\n\\ny_val_pred = gb_model.predict(X_val_selected)\\n\\nfrom sklearn.metrics import f1_score\\nscor=f1_score(y_val,y_val_pred,average='micro')\\nscor\""
      ]
     },
     "execution_count": 70,
     "metadata": {},
     "output_type": "execute_result"
    }
   ],
   "source": [
    "'''from sklearn.ensemble import GradientBoostingClassifier\n",
    "gb_model = GradientBoostingClassifier(random_state=42)\n",
    "gb_model.fit(X_train_selected, y_train)\n",
    "\n",
    "y_val_pred = gb_model.predict(X_val_selected)\n",
    "\n",
    "from sklearn.metrics import f1_score\n",
    "scor=f1_score(y_val,y_val_pred,average='micro')\n",
    "scor'''"
   ]
  },
  {
   "cell_type": "markdown",
   "id": "b71bed51",
   "metadata": {
    "papermill": {
     "duration": 0.043526,
     "end_time": "2023-08-13T18:23:08.484554",
     "exception": false,
     "start_time": "2023-08-13T18:23:08.441028",
     "status": "completed"
    },
    "tags": []
   },
   "source": [
    "> # Combining LogReg and MultinomialNB model"
   ]
  },
  {
   "cell_type": "code",
   "execution_count": 71,
   "id": "63a8b439",
   "metadata": {
    "execution": {
     "iopub.execute_input": "2023-08-13T18:23:08.576141Z",
     "iopub.status.busy": "2023-08-13T18:23:08.575066Z",
     "iopub.status.idle": "2023-08-13T18:23:08.582748Z",
     "shell.execute_reply": "2023-08-13T18:23:08.581942Z"
    },
    "papermill": {
     "duration": 0.055921,
     "end_time": "2023-08-13T18:23:08.584959",
     "exception": false,
     "start_time": "2023-08-13T18:23:08.529038",
     "status": "completed"
    },
    "tags": []
   },
   "outputs": [
    {
     "data": {
      "text/plain": [
       "\"from sklearn.ensemble import VotingClassifier\\n\\n#Created the VotingClassifier\\nvoting_classifier = VotingClassifier(estimators=[\\n    ('logreg', logreg_model),\\n    ('mod', mod)],\\n    voting='soft',weights=[2,1])\\n\\n#Trained the VotingClassifier\\nvoting_classifier.fit(X_train_count, y_train)\\n#Make predictions on the validation set using the VotingClassifier\\ny_val_pred = voting_classifier.predict(X_val_count)\\n\\n#Model Performance\\nfrom sklearn.metrics import f1_score, classification_report, accuracy_score\\nscor=f1_score(y_val,y_val_pred,average='micro')\\nscor\""
      ]
     },
     "execution_count": 71,
     "metadata": {},
     "output_type": "execute_result"
    }
   ],
   "source": [
    "#Using Ensemble (VotingClassifier) with MNB and LinearRegression\n",
    "#VotingClassifier combines the predictions of the different models \n",
    "'''from sklearn.ensemble import VotingClassifier\n",
    "\n",
    "#Created the VotingClassifier\n",
    "voting_classifier = VotingClassifier(estimators=[\n",
    "    ('logreg', logreg_model),\n",
    "    ('mod', mod)],\n",
    "    voting='soft',weights=[2,1])\n",
    "\n",
    "#Trained the VotingClassifier\n",
    "voting_classifier.fit(X_train_count, y_train)\n",
    "#Make predictions on the validation set using the VotingClassifier\n",
    "y_val_pred = voting_classifier.predict(X_val_count)\n",
    "\n",
    "#Model Performance\n",
    "from sklearn.metrics import f1_score, classification_report, accuracy_score\n",
    "scor=f1_score(y_val,y_val_pred,average='micro')\n",
    "scor'''"
   ]
  },
  {
   "cell_type": "markdown",
   "id": "9099588d",
   "metadata": {
    "papermill": {
     "duration": 0.043664,
     "end_time": "2023-08-13T18:23:08.672935",
     "exception": false,
     "start_time": "2023-08-13T18:23:08.629271",
     "status": "completed"
    },
    "tags": []
   },
   "source": [
    "> # Used For Final Submission"
   ]
  },
  {
   "cell_type": "code",
   "execution_count": 72,
   "id": "d99fbe6b",
   "metadata": {
    "execution": {
     "iopub.execute_input": "2023-08-13T18:23:08.764589Z",
     "iopub.status.busy": "2023-08-13T18:23:08.763835Z",
     "iopub.status.idle": "2023-08-13T18:25:41.793721Z",
     "shell.execute_reply": "2023-08-13T18:25:41.792332Z"
    },
    "papermill": {
     "duration": 153.079421,
     "end_time": "2023-08-13T18:25:41.796718",
     "exception": false,
     "start_time": "2023-08-13T18:23:08.717297",
     "status": "completed"
    },
    "tags": []
   },
   "outputs": [
    {
     "name": "stdout",
     "output_type": "stream",
     "text": [
      "0.8368763824035389\n",
      "Classification Report:               precision    recall  f1-score   support\n",
      "\n",
      "    NEGATIVE       0.78      0.71      0.74     10696\n",
      "    POSITIVE       0.86      0.90      0.88     21856\n",
      "\n",
      "    accuracy                           0.84     32552\n",
      "   macro avg       0.82      0.80      0.81     32552\n",
      "weighted avg       0.83      0.84      0.83     32552\n",
      "\n"
     ]
    }
   ],
   "source": [
    "#Using Ensemble (VotingClassifier) with MNB and LinearRegression\n",
    "#VotingClassifier combines the predictions of the different models \n",
    "from sklearn.ensemble import VotingClassifier\n",
    "\n",
    "#Created the VotingClassifier\n",
    "voting_classifier_final = VotingClassifier(estimators=[\n",
    "    ('Caliberated_svc', calibrated_linear_svc_model_final),\n",
    "    ('logreg', logreg_model_final)],\n",
    "    voting='soft')\n",
    "\n",
    "#Trained the VotingClassifier\n",
    "voting_classifier_final.fit(X_train__selected_3 , y__train)\n",
    "\n",
    "#Make predictions on the validation set using the VotingClassifier\n",
    "y_val_pred__ = voting_classifier_final.predict(X_val__selected_3)\n",
    "y_train_pred__ = voting_classifier_final.predict(X_train__selected_3)\n",
    "\n",
    "##Evaluating the model's performance\n",
    "from sklearn.metrics import f1_score, classification_report, accuracy_score\n",
    "scor=f1_score(y_valid,y_val_pred__,average='micro')\n",
    "print(scor)\n",
    "print('Classification Report:',classification_report(y_valid,y_val_pred__))\n"
   ]
  },
  {
   "cell_type": "markdown",
   "id": "36c16619",
   "metadata": {
    "papermill": {
     "duration": 0.044498,
     "end_time": "2023-08-13T18:25:41.954384",
     "exception": false,
     "start_time": "2023-08-13T18:25:41.909886",
     "status": "completed"
    },
    "tags": []
   },
   "source": [
    "> # HyperParameter Tuning---- (LogReg and LinearSVC)"
   ]
  },
  {
   "cell_type": "code",
   "execution_count": 73,
   "id": "f2c5555e",
   "metadata": {
    "execution": {
     "iopub.execute_input": "2023-08-13T18:25:42.046104Z",
     "iopub.status.busy": "2023-08-13T18:25:42.045172Z",
     "iopub.status.idle": "2023-08-13T18:25:42.054858Z",
     "shell.execute_reply": "2023-08-13T18:25:42.053962Z"
    },
    "papermill": {
     "duration": 0.058228,
     "end_time": "2023-08-13T18:25:42.057035",
     "exception": false,
     "start_time": "2023-08-13T18:25:41.998807",
     "status": "completed"
    },
    "tags": []
   },
   "outputs": [
    {
     "data": {
      "text/plain": [
       "'from sklearn.ensemble import VotingClassifier\\nfrom sklearn.linear_model import LogisticRegression\\nfrom sklearn.svm import LinearSVC\\nfrom sklearn.datasets import make_classification\\nfrom sklearn.model_selection import train_test_split, RandomizedSearchCV\\nfrom sklearn.metrics import accuracy_score\\n\\n\\n#hyperparameter tuning for Logistic Regression\\nlogreg_hyperparameters = {\\n    \\'C\\': np.linspace(0.1, 10, 50),\\n    \\'penalty\\': [\\'l1\\', \\'l2\\'],\\n    \\'solver\\': [\\'liblinear\\', \\'newton-cg\\', \\'lbfgs\\', \\'saga\\']\\n}\\nrs_logreg = RandomizedSearchCV(LogisticRegression(), logreg_hyperparameters, \\n                               n_iter=3000, cv=5, random_state=42)\\nrs_logreg.fit(X_train__selected_3, y__train)\\nbest_logreg = rs_logreg.best_estimator_\\n\\n\\n\\n# Perform hyperparameter tuning for LinearSVC\\nlinearsvc_hyperparameters = {\\n    \\'C\\': np.linspace(0.1, 10, 50),\\n    \\'penalty\\': [\\'l1\\', \\'l2\\'],\\n    \\'loss\\': [\\'hinge\\', \\'squared_hinge\\']\\n}\\nrs_linearsvc = RandomizedSearchCV(LinearSVC(), linearsvc_hyperparameters, \\n                                  n_iter=3000, cv=5, random_state=42)\\nrs_linearsvc.fit(X_train__selected_3, y__train)\\nbest_linearsvc = rs_linearsvc.best_estimator_\\n\\n\\n# Create a VotingClassifier with the best estimators\\nvoting_classifier = VotingClassifier(estimators=[\\n    (\\'logreg\\', best_logreg),\\n    (\\'linearsvc\\', best_linearsvc)\\n], voting=\\'soft\\')\\n\\n# Train the VotingClassifier on the training data\\nvoting_classifier.fit(X_train__selected_3, y__train)\\n\\n# Make predictions on the validation set\\ny_pred = voting_classifier.predict(X_val__selected_3)\\n\\n# Calculate the accuracy\\naccuracy = accuracy_score(y_valid, y_pred)\\nprint(\"Accuracy with VotingClassifier:\", accuracy)\\n\\n# Access the best hyperparameters for Logistic Regression and LinearSVC\\nprint(\"Best hyperparameters for Logistic Regression:\", rs_logreg.best_params_)\\nprint(\"Best hyperparameters for LinearSVC:\", rs_linearsvc.best_params_)'"
      ]
     },
     "execution_count": 73,
     "metadata": {},
     "output_type": "execute_result"
    }
   ],
   "source": [
    "'''from sklearn.ensemble import VotingClassifier\n",
    "from sklearn.linear_model import LogisticRegression\n",
    "from sklearn.svm import LinearSVC\n",
    "from sklearn.datasets import make_classification\n",
    "from sklearn.model_selection import train_test_split, RandomizedSearchCV\n",
    "from sklearn.metrics import accuracy_score\n",
    "\n",
    "\n",
    "#hyperparameter tuning for Logistic Regression\n",
    "logreg_hyperparameters = {\n",
    "    'C': np.linspace(0.1, 10, 50),\n",
    "    'penalty': ['l1', 'l2'],\n",
    "    'solver': ['liblinear', 'newton-cg', 'lbfgs', 'saga']\n",
    "}\n",
    "rs_logreg = RandomizedSearchCV(LogisticRegression(), logreg_hyperparameters, \n",
    "                               n_iter=3000, cv=5, random_state=42)\n",
    "rs_logreg.fit(X_train__selected_3, y__train)\n",
    "best_logreg = rs_logreg.best_estimator_\n",
    "\n",
    "\n",
    "\n",
    "# Perform hyperparameter tuning for LinearSVC\n",
    "linearsvc_hyperparameters = {\n",
    "    'C': np.linspace(0.1, 10, 50),\n",
    "    'penalty': ['l1', 'l2'],\n",
    "    'loss': ['hinge', 'squared_hinge']\n",
    "}\n",
    "rs_linearsvc = RandomizedSearchCV(LinearSVC(), linearsvc_hyperparameters, \n",
    "                                  n_iter=3000, cv=5, random_state=42)\n",
    "rs_linearsvc.fit(X_train__selected_3, y__train)\n",
    "best_linearsvc = rs_linearsvc.best_estimator_\n",
    "\n",
    "\n",
    "# Create a VotingClassifier with the best estimators\n",
    "voting_classifier = VotingClassifier(estimators=[\n",
    "    ('logreg', best_logreg),\n",
    "    ('linearsvc', best_linearsvc)\n",
    "], voting='soft')\n",
    "\n",
    "# Train the VotingClassifier on the training data\n",
    "voting_classifier.fit(X_train__selected_3, y__train)\n",
    "\n",
    "# Make predictions on the validation set\n",
    "y_pred = voting_classifier.predict(X_val__selected_3)\n",
    "\n",
    "# Calculate the accuracy\n",
    "accuracy = accuracy_score(y_valid, y_pred)\n",
    "print(\"Accuracy with VotingClassifier:\", accuracy)\n",
    "\n",
    "# Access the best hyperparameters for Logistic Regression and LinearSVC\n",
    "print(\"Best hyperparameters for Logistic Regression:\", rs_logreg.best_params_)\n",
    "print(\"Best hyperparameters for LinearSVC:\", rs_linearsvc.best_params_)'''\n"
   ]
  },
  {
   "cell_type": "markdown",
   "id": "5cfe7aa0",
   "metadata": {
    "papermill": {
     "duration": 0.044668,
     "end_time": "2023-08-13T18:25:42.146423",
     "exception": false,
     "start_time": "2023-08-13T18:25:42.101755",
     "status": "completed"
    },
    "tags": []
   },
   "source": [
    "# Some Insights"
   ]
  },
  {
   "cell_type": "markdown",
   "id": "5493e73d",
   "metadata": {
    "papermill": {
     "duration": 0.044399,
     "end_time": "2023-08-13T18:25:42.236128",
     "exception": false,
     "start_time": "2023-08-13T18:25:42.191729",
     "status": "completed"
    },
    "tags": []
   },
   "source": [
    "****LinearSVC, being a linear model, usually trains faster compared to the other two models, which can be beneficial for larger datasets.\n",
    "\n",
    "****Multinomial Naive Bayes is specifically designed for text data, making it an appropriate choice for sentiment prediction based on movie reviews.\n",
    "\n",
    "****Importance of fine-tuning model parameters to achieve the best results.\n",
    "\n",
    "****Some features have had more impact on sentiment prediction, some have less.\n",
    "\n",
    "****Combining the predictions of Multiple models using ensemble techniques like Voting Classifier exploited the strengths of individual models, leading to potentially improved performance.\n",
    "\n",
    "****Better pre-processing gives better results.\n",
    "\n",
    "****Logistic Regression is well-suited for binary classification tasks like sentiment prediction, where the target variable has two classes \n",
    "\n",
    "****Importance of gathering additional information through entire data."
   ]
  },
  {
   "cell_type": "markdown",
   "id": "7d85a694",
   "metadata": {
    "papermill": {
     "duration": 0.044173,
     "end_time": "2023-08-13T18:25:42.324867",
     "exception": false,
     "start_time": "2023-08-13T18:25:42.280694",
     "status": "completed"
    },
    "tags": []
   },
   "source": [
    "# Top Words contributing to positive and negative sentiments"
   ]
  },
  {
   "cell_type": "code",
   "execution_count": 74,
   "id": "6b1d57c8",
   "metadata": {
    "execution": {
     "iopub.execute_input": "2023-08-13T18:25:42.416378Z",
     "iopub.status.busy": "2023-08-13T18:25:42.415695Z",
     "iopub.status.idle": "2023-08-13T18:25:43.363807Z",
     "shell.execute_reply": "2023-08-13T18:25:43.362330Z"
    },
    "papermill": {
     "duration": 0.996825,
     "end_time": "2023-08-13T18:25:43.366479",
     "exception": false,
     "start_time": "2023-08-13T18:25:42.369654",
     "status": "completed"
    },
    "tags": []
   },
   "outputs": [
    {
     "name": "stdout",
     "output_type": "stream",
     "text": [
      "Top Words Contributing to Positive Sentiment:\n",
      "               Word  Coefficient\n",
      "132513  masterpiece     1.768097\n",
      "34206   brilliantly     1.662011\n",
      "127877     long but     1.646207\n",
      "55428    delightful     1.622181\n",
      "86027           gem     1.558851\n",
      "353425    wonderful     1.542990\n",
      "306216     terrific     1.514593\n",
      "67291     enjoyable     1.505834\n",
      "24660     bad thing     1.474319\n",
      "69666     even when     1.471522\n",
      "\n",
      "Top Words Contributing to Negative Sentiment:\n",
      "                 Word  Coefficient\n",
      "333266        unfunny    -2.344085\n",
      "333208  unfortunately    -2.246010\n",
      "58913   disappointing    -2.183129\n",
      "72842           fails    -2.128156\n",
      "136396        misfire    -2.117559\n",
      "31158           bland    -2.104947\n",
      "125392       lifeless    -2.011838\n",
      "122163          lacks    -1.964401\n",
      "324223       tiresome    -1.962833\n",
      "333376     uninspired    -1.921653\n"
     ]
    }
   ],
   "source": [
    "feature_names = vect_2.get_feature_names_out()\n",
    "\n",
    "# Get the coefficients (weights) assigned to each feature (word) by the Logistic Regression model\n",
    "feature_coefficients = logreg_model.coef_[0]\n",
    "\n",
    "# Created a DataFrame to display the words and their corresponding coefficients\n",
    "word_coefficient_df = pd.DataFrame({'Word': feature_names, 'Coefficient': feature_coefficients})\n",
    "\n",
    "# Sorted the DataFrame based on the absolute value of coefficients in descending order\n",
    "word_coefficient_df = word_coefficient_df.reindex(word_coefficient_df['Coefficient'].abs().sort_values(ascending=False).index)\n",
    "\n",
    "\n",
    "positive_words_df = word_coefficient_df[word_coefficient_df['Coefficient'] > 0]\n",
    "\n",
    "# Sort the DataFrame based on the positive coefficients in descending order\n",
    "positive_words_df = positive_words_df.sort_values(by='Coefficient', ascending=False)\n",
    "\n",
    "# Display the top words contributing to positive sentiment\n",
    "print(\"Top Words Contributing to Positive Sentiment:\")\n",
    "print(positive_words_df.head(10))\n",
    "\n",
    "negative_words_df = word_coefficient_df[word_coefficient_df['Coefficient'] < 0]\n",
    "\n",
    "# Sort the DataFrame based on the negative coefficients\n",
    "negative_words_df = negative_words_df.sort_values(by='Coefficient', ascending=True)\n",
    "\n",
    "# Display the top words contributing to negative sentiment\n",
    "print(\"\\nTop Words Contributing to Negative Sentiment:\")\n",
    "print(negative_words_df.head(10))"
   ]
  },
  {
   "cell_type": "markdown",
   "id": "7bf5abf1",
   "metadata": {
    "papermill": {
     "duration": 0.044986,
     "end_time": "2023-08-13T18:25:43.456317",
     "exception": false,
     "start_time": "2023-08-13T18:25:43.411331",
     "status": "completed"
    },
    "tags": []
   },
   "source": [
    "# Preprocessing Test data"
   ]
  },
  {
   "cell_type": "code",
   "execution_count": 75,
   "id": "acbbd074",
   "metadata": {
    "execution": {
     "iopub.execute_input": "2023-08-13T18:25:43.549396Z",
     "iopub.status.busy": "2023-08-13T18:25:43.548947Z",
     "iopub.status.idle": "2023-08-13T18:25:43.554234Z",
     "shell.execute_reply": "2023-08-13T18:25:43.553066Z"
    },
    "papermill": {
     "duration": 0.054444,
     "end_time": "2023-08-13T18:25:43.556734",
     "exception": false,
     "start_time": "2023-08-13T18:25:43.502290",
     "status": "completed"
    },
    "tags": []
   },
   "outputs": [],
   "source": [
    "#Seperated feature\n",
    "#X_test=test_data['reviewText']"
   ]
  },
  {
   "cell_type": "code",
   "execution_count": 76,
   "id": "ba64271c",
   "metadata": {
    "execution": {
     "iopub.execute_input": "2023-08-13T18:25:43.649622Z",
     "iopub.status.busy": "2023-08-13T18:25:43.648528Z",
     "iopub.status.idle": "2023-08-13T18:25:43.653646Z",
     "shell.execute_reply": "2023-08-13T18:25:43.652536Z"
    },
    "papermill": {
     "duration": 0.05373,
     "end_time": "2023-08-13T18:25:43.656099",
     "exception": false,
     "start_time": "2023-08-13T18:25:43.602369",
     "status": "completed"
    },
    "tags": []
   },
   "outputs": [],
   "source": [
    "#Replacing missing values with most occuring\n",
    "#new_mer_test['reviewText'].fillna(new_mer_test['reviewText'].mode()[0],inplace=True)\n",
    "#new_mer_test['reviewerName'].fillna(new_mer_test['reviewerName'].mode()[0],inplace=True)"
   ]
  },
  {
   "cell_type": "code",
   "execution_count": 77,
   "id": "4c504ae0",
   "metadata": {
    "execution": {
     "iopub.execute_input": "2023-08-13T18:25:43.748107Z",
     "iopub.status.busy": "2023-08-13T18:25:43.747676Z",
     "iopub.status.idle": "2023-08-13T18:25:43.824250Z",
     "shell.execute_reply": "2023-08-13T18:25:43.823121Z"
    },
    "papermill": {
     "duration": 0.125633,
     "end_time": "2023-08-13T18:25:43.827140",
     "exception": false,
     "start_time": "2023-08-13T18:25:43.701507",
     "status": "completed"
    },
    "tags": []
   },
   "outputs": [],
   "source": [
    "test_data['reviewText'].fillna(test_data['reviewText'].mode()[0],inplace=True)\n",
    "test_data['reviewerName'].fillna(test_data['reviewerName'].mode()[0],inplace=True)"
   ]
  },
  {
   "cell_type": "code",
   "execution_count": 78,
   "id": "694d9af4",
   "metadata": {
    "execution": {
     "iopub.execute_input": "2023-08-13T18:25:43.919722Z",
     "iopub.status.busy": "2023-08-13T18:25:43.919283Z",
     "iopub.status.idle": "2023-08-13T18:25:43.923779Z",
     "shell.execute_reply": "2023-08-13T18:25:43.922836Z"
    },
    "papermill": {
     "duration": 0.053349,
     "end_time": "2023-08-13T18:25:43.925956",
     "exception": false,
     "start_time": "2023-08-13T18:25:43.872607",
     "status": "completed"
    },
    "tags": []
   },
   "outputs": [],
   "source": [
    "#Merged test(new_mer_test) and movies data (grouped).\n",
    "#test_merged_df = new_mer_test.merge(grouped_df, on='movieid', how='left')\n",
    "#test_merged_df['reviewLength'] = test_merged_df['reviewText'].apply(lambda x: len(x.split()))"
   ]
  },
  {
   "cell_type": "code",
   "execution_count": 79,
   "id": "d045f27f",
   "metadata": {
    "execution": {
     "iopub.execute_input": "2023-08-13T18:25:44.018576Z",
     "iopub.status.busy": "2023-08-13T18:25:44.017897Z",
     "iopub.status.idle": "2023-08-13T18:25:44.156877Z",
     "shell.execute_reply": "2023-08-13T18:25:44.155252Z"
    },
    "papermill": {
     "duration": 0.189537,
     "end_time": "2023-08-13T18:25:44.160370",
     "exception": false,
     "start_time": "2023-08-13T18:25:43.970833",
     "status": "completed"
    },
    "tags": []
   },
   "outputs": [],
   "source": [
    "#Merged test and movies data (grouped)\n",
    "test_merged_df = test_data.merge(grouped_df, on='movieid', how='left')"
   ]
  },
  {
   "cell_type": "code",
   "execution_count": null,
   "id": "dc6699f4",
   "metadata": {
    "execution": {
     "iopub.execute_input": "2023-08-12T16:39:56.978379Z",
     "iopub.status.busy": "2023-08-12T16:39:56.977131Z",
     "iopub.status.idle": "2023-08-12T16:39:57.065884Z",
     "shell.execute_reply": "2023-08-12T16:39:57.064993Z",
     "shell.execute_reply.started": "2023-08-12T16:39:56.978339Z"
    },
    "papermill": {
     "duration": 0.045523,
     "end_time": "2023-08-13T18:25:44.251225",
     "exception": false,
     "start_time": "2023-08-13T18:25:44.205702",
     "status": "completed"
    },
    "tags": []
   },
   "outputs": [],
   "source": []
  },
  {
   "cell_type": "code",
   "execution_count": 80,
   "id": "95074a97",
   "metadata": {
    "execution": {
     "iopub.execute_input": "2023-08-13T18:25:44.343447Z",
     "iopub.status.busy": "2023-08-13T18:25:44.343039Z",
     "iopub.status.idle": "2023-08-13T18:25:48.671641Z",
     "shell.execute_reply": "2023-08-13T18:25:48.670764Z"
    },
    "papermill": {
     "duration": 4.377667,
     "end_time": "2023-08-13T18:25:48.674246",
     "exception": false,
     "start_time": "2023-08-13T18:25:44.296579",
     "status": "completed"
    },
    "tags": []
   },
   "outputs": [],
   "source": [
    "#Applying preprocessor consisting of scaling, encoding, vectorization\n",
    "X__test_transformed = preprocessor_3.transform(test_merged_df)\n",
    "X__test_transformed2 = selector_3.transform(X__test_transformed)"
   ]
  },
  {
   "cell_type": "code",
   "execution_count": 81,
   "id": "1ba504f1",
   "metadata": {
    "execution": {
     "iopub.execute_input": "2023-08-13T18:25:48.771372Z",
     "iopub.status.busy": "2023-08-13T18:25:48.770502Z",
     "iopub.status.idle": "2023-08-13T18:25:48.775452Z",
     "shell.execute_reply": "2023-08-13T18:25:48.774695Z"
    },
    "papermill": {
     "duration": 0.053878,
     "end_time": "2023-08-13T18:25:48.777881",
     "exception": false,
     "start_time": "2023-08-13T18:25:48.724003",
     "status": "completed"
    },
    "tags": []
   },
   "outputs": [],
   "source": [
    "#Applying CountVectorizer to convert text into numerical feature\n",
    "#X_test_count=vect_2.transform(X_test)"
   ]
  },
  {
   "cell_type": "code",
   "execution_count": 82,
   "id": "8f941004",
   "metadata": {
    "execution": {
     "iopub.execute_input": "2023-08-13T18:25:48.882192Z",
     "iopub.status.busy": "2023-08-13T18:25:48.881356Z",
     "iopub.status.idle": "2023-08-13T18:25:48.971748Z",
     "shell.execute_reply": "2023-08-13T18:25:48.970752Z"
    },
    "papermill": {
     "duration": 0.151537,
     "end_time": "2023-08-13T18:25:48.974384",
     "exception": false,
     "start_time": "2023-08-13T18:25:48.822847",
     "status": "completed"
    },
    "tags": []
   },
   "outputs": [],
   "source": [
    "#Making predictions on the test data using the VotingClassifier\n",
    "y_test_pred = voting_classifier_final.predict(X__test_transformed2)"
   ]
  },
  {
   "cell_type": "code",
   "execution_count": 83,
   "id": "91d11e3c",
   "metadata": {
    "execution": {
     "iopub.execute_input": "2023-08-13T18:25:49.069282Z",
     "iopub.status.busy": "2023-08-13T18:25:49.068481Z",
     "iopub.status.idle": "2023-08-13T18:25:49.075161Z",
     "shell.execute_reply": "2023-08-13T18:25:49.074300Z"
    },
    "papermill": {
     "duration": 0.056485,
     "end_time": "2023-08-13T18:25:49.077334",
     "exception": false,
     "start_time": "2023-08-13T18:25:49.020849",
     "status": "completed"
    },
    "tags": []
   },
   "outputs": [
    {
     "data": {
      "text/plain": [
       "(55315,)"
      ]
     },
     "execution_count": 83,
     "metadata": {},
     "output_type": "execute_result"
    }
   ],
   "source": [
    "#Shape of final predicted label\n",
    "y_test_pred.shape"
   ]
  },
  {
   "cell_type": "markdown",
   "id": "6924b0d5",
   "metadata": {
    "papermill": {
     "duration": 0.04495,
     "end_time": "2023-08-13T18:25:49.167542",
     "exception": false,
     "start_time": "2023-08-13T18:25:49.122592",
     "status": "completed"
    },
    "tags": []
   },
   "source": [
    "# Final Submission"
   ]
  },
  {
   "cell_type": "code",
   "execution_count": 84,
   "id": "9a8c305a",
   "metadata": {
    "execution": {
     "iopub.execute_input": "2023-08-13T18:25:49.267933Z",
     "iopub.status.busy": "2023-08-13T18:25:49.267557Z",
     "iopub.status.idle": "2023-08-13T18:25:49.531149Z",
     "shell.execute_reply": "2023-08-13T18:25:49.530005Z"
    },
    "papermill": {
     "duration": 0.312645,
     "end_time": "2023-08-13T18:25:49.533956",
     "exception": false,
     "start_time": "2023-08-13T18:25:49.221311",
     "status": "completed"
    },
    "tags": []
   },
   "outputs": [],
   "source": [
    "#Final submission\n",
    "submission=pd.DataFrame(columns=['id','sentiment'])\n",
    "submission['id']=[i for i in range(len(y_test_pred))]\n",
    "submission['sentiment']=y_test_pred\n",
    "submission.to_csv('submission.csv',index=False)"
   ]
  },
  {
   "cell_type": "code",
   "execution_count": 85,
   "id": "0912b1d4",
   "metadata": {
    "execution": {
     "iopub.execute_input": "2023-08-13T18:25:49.627063Z",
     "iopub.status.busy": "2023-08-13T18:25:49.626585Z",
     "iopub.status.idle": "2023-08-13T18:25:49.633318Z",
     "shell.execute_reply": "2023-08-13T18:25:49.632167Z"
    },
    "papermill": {
     "duration": 0.056833,
     "end_time": "2023-08-13T18:25:49.635601",
     "exception": false,
     "start_time": "2023-08-13T18:25:49.578768",
     "status": "completed"
    },
    "tags": []
   },
   "outputs": [
    {
     "data": {
      "text/plain": [
       "(55315, 2)"
      ]
     },
     "execution_count": 85,
     "metadata": {},
     "output_type": "execute_result"
    }
   ],
   "source": [
    "submission.shape\n"
   ]
  },
  {
   "cell_type": "code",
   "execution_count": null,
   "id": "ff6f0609",
   "metadata": {
    "papermill": {
     "duration": 0.046037,
     "end_time": "2023-08-13T18:25:49.727689",
     "exception": false,
     "start_time": "2023-08-13T18:25:49.681652",
     "status": "completed"
    },
    "tags": []
   },
   "outputs": [],
   "source": []
  },
  {
   "cell_type": "code",
   "execution_count": null,
   "id": "2accbdbb",
   "metadata": {
    "papermill": {
     "duration": 0.044862,
     "end_time": "2023-08-13T18:25:49.817294",
     "exception": false,
     "start_time": "2023-08-13T18:25:49.772432",
     "status": "completed"
    },
    "tags": []
   },
   "outputs": [],
   "source": []
  }
 ],
 "metadata": {
  "kernelspec": {
   "display_name": "Python 3",
   "language": "python",
   "name": "python3"
  },
  "language_info": {
   "codemirror_mode": {
    "name": "ipython",
    "version": 3
   },
   "file_extension": ".py",
   "mimetype": "text/x-python",
   "name": "python",
   "nbconvert_exporter": "python",
   "pygments_lexer": "ipython3",
   "version": "3.10.10"
  },
  "papermill": {
   "default_parameters": {},
   "duration": 580.623648,
   "end_time": "2023-08-13T18:25:52.194634",
   "environment_variables": {},
   "exception": null,
   "input_path": "__notebook__.ipynb",
   "output_path": "__notebook__.ipynb",
   "parameters": {},
   "start_time": "2023-08-13T18:16:11.570986",
   "version": "2.4.0"
  }
 },
 "nbformat": 4,
 "nbformat_minor": 5
}
